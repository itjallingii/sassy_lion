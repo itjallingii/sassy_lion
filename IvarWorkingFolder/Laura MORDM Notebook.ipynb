{
 "cells": [
  {
   "cell_type": "code",
   "execution_count": 4,
   "metadata": {},
   "outputs": [],
   "source": [
    "#import all packages\n",
    "import os\n",
    "try:\n",
    "\tos.chdir(os.path.join(os.getcwd(), 'final assignment'))\n",
    "\tprint(os.getcwd())\n",
    "except:\n",
    "\tpass\n",
    "\n",
    "import numpy as np\n",
    "import scipy as sp\n",
    "import pandas as pd\n",
    "import matplotlib.pyplot as plt\n",
    "import seaborn as sns\n",
    "\n",
    "from ema_workbench import (Model, CategoricalParameter, save_results,MultiprocessingEvaluator, ema_logging, SequentialEvaluator,\n",
    "                           ScalarOutcome, TimeSeriesOutcome, IntegerParameter, RealParameter, Policy)\n",
    "\n",
    "from ema_workbench.analysis import parcoords\n",
    "from ema_workbench.em_framework.optimization import (HyperVolume, EpsilonProgress)\n",
    "from dike_model_function_V2_0 import (DikeNetwork,DikeNetworkTS)  # @UnresolvedImport\n",
    "from problem_formulation_V2_0 import get_model_for_actor_problem_formulation"
   ]
  },
  {
   "cell_type": "code",
   "execution_count": 2,
   "metadata": {},
   "outputs": [],
   "source": [
    "from MORDM_3Jun_LC import mordm_function_laura"
   ]
  },
  {
   "cell_type": "code",
   "execution_count": 6,
   "metadata": {},
   "outputs": [],
   "source": [
    "#generate the model --Change the argument for different actor formulations\n",
    "model, planning_steps = get_model_for_actor_problem_formulation(1, outcome_type='scalar')\n",
    "\n",
    "#create reference case of policy levers all set to 0\n",
    "levs = []\n",
    "for lev in model.levers:\n",
    "    levs.append(lev)\\\n",
    "\n",
    "do_nothing_policy = Policy(\"do nothing\", **{lever.name:0 for lever in levs})\n",
    "\n",
    "#define convergence metrics --COMPUTATIONALLY EXPENSIVE SO COMMENT OUT WHERE NECESSARY\n",
    "#specifying min and max values...play around with this max!!\n",
    "convergence_metrics = [HyperVolume(minimum=[0,0,0], maximum=[2e08,2e08,100]), EpsilonProgress()]"
   ]
  },
  {
   "cell_type": "code",
   "execution_count": null,
   "metadata": {},
   "outputs": [],
   "source": [
    "#with both searchover = 'uncertainties' then = 'levers'...but then change the refernece!!\n",
    "with MultiprocessingEvaluator(model) as evaluator:\n",
    "    results, convergence = evaluator.optimize(nfe=100, searchover='uncertainties', logging_freq = 10,\n",
    "                                              epsilons=[80,100,0.1], convergence = convergence_metrics,reference=do_nothing_policy)"
   ]
  },
  {
   "cell_type": "code",
   "execution_count": null,
   "metadata": {},
   "outputs": [],
   "source": [
    "#save results !!\n",
    "#save_results(results, 'MORDM_evaluation_0.tar.gz') #change names to not overwrite each time\n",
    "#policies = policies.drop([o.name for o in model.outcomes], axis=1)\n",
    "#policies.to_csv('mordm polices_0.csv')\n",
    "\n",
    "results.to_csv('MORDM_evaluation_0.csv')"
   ]
  },
  {
   "cell_type": "code",
   "execution_count": null,
   "metadata": {},
   "outputs": [],
   "source": [
    "#plot tradeoffs\n",
    "data = results.loc[:, [o.name for o in model.outcomes]]\n",
    "limits = parcoords.get_limits(data)\n",
    "limits.loc[0,[o.name for o in model.outcomes]] = 0\n",
    "\n",
    "paraxes = parcoords.ParallelAxes(limits)\n",
    "paraxes.plot(data)\n",
    "plt.show(block=True)\n",
    "\n",
    "#can also plot convergence here...\n",
    "fig, (ax1, ax2) = plt.subplots(ncols=2, sharex=True, figsize=(8,4))\n",
    "ax1.plot(convergence.nfe, convergence.epsilon_progress)\n",
    "ax1.set_ylabel('$\\epsilon$-progress')\n",
    "ax2.plot(convergence.nfe, convergence.hypervolume)\n",
    "ax2.set_ylabel('hypervolume')\n",
    "\n",
    "ax1.set_xlabel('number of function evaluations')\n",
    "ax2.set_xlabel('number of function evaluations')plt.show(block=True)\n",
    "    "
   ]
  },
  {
   "cell_type": "code",
   "execution_count": 2,
   "metadata": {},
   "outputs": [
    {
     "name": "stdout",
     "output_type": "stream",
     "text": [
      "C:\\Users\\ivarnieuwepc\\Desktop\\Master EPA\\EPA1361 Model Based Decision Making\\sassy_lion\\Fresh start - Ivar\n"
     ]
    }
   ],
   "source": []
  },
  {
   "cell_type": "code",
   "execution_count": 3,
   "metadata": {},
   "outputs": [
    {
     "ename": "FileNotFoundError",
     "evalue": "[WinError 2] Het systeem kan het opgegeven bestand niet vinden: 'C:\\\\Users\\\\ivarnieuwepc\\\\Desktop\\\\Master EPA\\\\EPA1361 Model Based Decision Making\\\\sassy_lion\\\\Fresh start - Ivar\\\\final assignment'",
     "output_type": "error",
     "traceback": [
      "\u001b[1;31m---------------------------------------------------------------------------\u001b[0m",
      "\u001b[1;31mFileNotFoundError\u001b[0m                         Traceback (most recent call last)",
      "\u001b[1;32m<ipython-input-3-21feeb76d0c4>\u001b[0m in \u001b[0;36m<module>\u001b[1;34m\u001b[0m\n\u001b[1;32m----> 1\u001b[1;33m \u001b[0mos\u001b[0m\u001b[1;33m.\u001b[0m\u001b[0mchdir\u001b[0m\u001b[1;33m(\u001b[0m\u001b[0mos\u001b[0m\u001b[1;33m.\u001b[0m\u001b[0mpath\u001b[0m\u001b[1;33m.\u001b[0m\u001b[0mjoin\u001b[0m\u001b[1;33m(\u001b[0m\u001b[0mos\u001b[0m\u001b[1;33m.\u001b[0m\u001b[0mgetcwd\u001b[0m\u001b[1;33m(\u001b[0m\u001b[1;33m)\u001b[0m\u001b[1;33m,\u001b[0m \u001b[1;34m'final assignment'\u001b[0m\u001b[1;33m)\u001b[0m\u001b[1;33m)\u001b[0m\u001b[1;33m\u001b[0m\u001b[1;33m\u001b[0m\u001b[0m\n\u001b[0m",
      "\u001b[1;31mFileNotFoundError\u001b[0m: [WinError 2] Het systeem kan het opgegeven bestand niet vinden: 'C:\\\\Users\\\\ivarnieuwepc\\\\Desktop\\\\Master EPA\\\\EPA1361 Model Based Decision Making\\\\sassy_lion\\\\Fresh start - Ivar\\\\final assignment'"
     ]
    }
   ],
   "source": []
  },
  {
   "cell_type": "code",
   "execution_count": null,
   "metadata": {},
   "outputs": [],
   "source": []
  }
 ],
 "metadata": {
  "kernelspec": {
   "display_name": "Python 3",
   "language": "python",
   "name": "python3"
  },
  "language_info": {
   "codemirror_mode": {
    "name": "ipython",
    "version": 3
   },
   "file_extension": ".py",
   "mimetype": "text/x-python",
   "name": "python",
   "nbconvert_exporter": "python",
   "pygments_lexer": "ipython3",
   "version": "3.7.3"
  }
 },
 "nbformat": 4,
 "nbformat_minor": 2
}
