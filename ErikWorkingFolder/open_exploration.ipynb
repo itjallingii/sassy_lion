{
 "cells": [
  {
   "cell_type": "markdown",
   "metadata": {},
   "source": [
    "# Summary of Changes\n",
    "The following key changes were made to this python notebook for the sake of convenience in running the notebook.\n",
    "\n",
    "    1. Added new problem formulation function which moves the individual actor problem formulations to a separate python (see 'get_model_for_actor_problem_formulation' in 'problem_formulation_V2_0.py') file for additional notes.\n",
    "        - The 'problem_formulation_actor' function is now removed from this notebook as a result\n",
    "    2. Added 'DikeNetworkTS' class for time series outcomes in the 'dike_model_function_V2_0.py' file."
   ]
  },
  {
   "cell_type": "code",
   "execution_count": 1,
   "metadata": {},
   "outputs": [
    {
     "name": "stderr",
     "output_type": "stream",
     "text": [
      "D:\\Anaconda\\lib\\importlib\\_bootstrap.py:219: ImportWarning: can't resolve package from __spec__ or __package__, falling back on __name__ and __path__\n",
      "  return f(*args, **kwds)\n"
     ]
    }
   ],
   "source": [
    "import numpy as np\n",
    "import scipy as sp\n",
    "import pandas as pd\n",
    "import matplotlib.pyplot as plt\n",
    "import seaborn as sns\n",
    "\n",
    "from ema_workbench import (Model, CategoricalParameter,\n",
    "                           ScalarOutcome, TimeSeriesOutcome, IntegerParameter, RealParameter)\n",
    "\n",
    "from dike_model_function_V2_0 import (DikeNetwork,DikeNetworkTS)  # @UnresolvedImport\n",
    "from problem_formulation_V2_1 import get_model_for_actor_problem_formulation"
   ]
  },
  {
   "cell_type": "code",
   "execution_count": 2,
   "metadata": {
    "scrolled": false
   },
   "outputs": [],
   "source": [
    "# Problem formulations:\n",
    "#    get_model_for_actor_problem_formulation(problem_formulation_id, outcome_type='time_series')\n",
    "#    problem_formulation_id options\n",
    "#        1 - RWS (GOOD)\n",
    "#        2 - Environmental interest group\n",
    "#        3 - Transport company \n",
    "#        4 - Delta commission\n",
    "#        5 - Gelderland (GOOD)\n",
    "#        6 - Overijssel (GOOD)s\n",
    "#        7 - Dike rings 1 and 2\n",
    "#        8 - Dike ring 3\n",
    "#        9 - Dike ring 4\n",
    "#        10 - Dike ring 5\n",
    "#        11 - RWS formulation 2\n",
    "#\n",
    "#    outcome_type options\n",
    "#        'time_series' (default)\n",
    "#        'scalar'\n",
    "\n",
    "\n",
    "model, planning_steps = get_model_for_actor_problem_formulation(1,outcome_type='scalar')"
   ]
  },
  {
   "cell_type": "code",
   "execution_count": null,
   "metadata": {},
   "outputs": [
    {
     "name": "stderr",
     "output_type": "stream",
     "text": [
      "[MainProcess/INFO] pool started\n",
      "[MainProcess/INFO] performing 2 scenarios * 2 policies * 1 model(s) = 4 experiments\n"
     ]
    }
   ],
   "source": [
    "from ema_workbench import (MultiprocessingEvaluator, ema_logging,\n",
    "                           perform_experiments, SequentialEvaluator)\n",
    "ema_logging.log_to_stderr(ema_logging.INFO)\n",
    "\n",
    "if __name__ == '__main__':\n",
    "    num_scenarios = 2\n",
    "    num_policies = 2\n",
    "    with MultiprocessingEvaluator(model) as evaluator:\n",
    "        experiments, outcomes = evaluator.perform_experiments(scenarios=num_scenarios, policies=num_policies)"
   ]
  },
  {
   "cell_type": "code",
   "execution_count": null,
   "metadata": {},
   "outputs": [],
   "source": [
    "from ema_workbench.analysis import parcoords\n",
    "\n",
    "limits = parcoords.get_limits(outcomes)\n",
    "axes = parcoords.ParallelAxes(limits)\n",
    "axes.plot(outcomes)\n",
    "\n",
    "# we invert this axis so direction of desirability is the same \n",
    "axes.invert_axis('max_P') \n",
    "plt.show()"
   ]
  }
 ],
 "metadata": {
  "kernelspec": {
   "display_name": "Python 3",
   "language": "python",
   "name": "python3"
  },
  "language_info": {
   "codemirror_mode": {
    "name": "ipython",
    "version": 3
   },
   "file_extension": ".py",
   "mimetype": "text/x-python",
   "name": "python",
   "nbconvert_exporter": "python",
   "pygments_lexer": "ipython3",
   "version": "3.6.5"
  }
 },
 "nbformat": 4,
 "nbformat_minor": 2
}
