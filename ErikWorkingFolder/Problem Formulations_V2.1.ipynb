{
 "cells": [
  {
   "cell_type": "code",
   "execution_count": 2,
   "metadata": {},
   "outputs": [],
   "source": [
    "import numpy as np\n",
    "import scipy as sp\n",
    "import pandas as pd\n",
    "import matplotlib.pyplot as plt\n",
    "import seaborn as sns\n",
    "\n",
    "from ema_workbench import (Model, CategoricalParameter,\n",
    "                           ScalarOutcome, TimeSeriesOutcome, IntegerParameter, RealParameter)\n",
    "\n",
    "from dike_model_function_V2_0 import (DikeNetwork,DikeNetworkTS)  # @UnresolvedImport\n",
    "from problem_formulation_V2_2 import get_model_for_actor_problem_formulation"
   ]
  },
  {
   "cell_type": "code",
   "execution_count": 3,
   "metadata": {
    "scrolled": false
   },
   "outputs": [],
   "source": [
    "# Problem formulations:\n",
    "#    get_model_for_actor_problem_formulation(problem_formulation_id, outcome_type='time_series')\n",
    "#    problem_formulation_id options\n",
    "#        1 - RWS (GOOD)\n",
    "#        2 - Environmental interest group\n",
    "#        3 - Transport company \n",
    "#        4 - Delta commission\n",
    "#        5 - Gelderland (GOOD)\n",
    "#        6 - Overijssel (GOOD)s\n",
    "#        7 - Dike rings 1 and 2\n",
    "#        8 - Dike ring 1\n",
    "#        9 - Dike ring 2\n",
    "#        10 - Dike ring 3\n",
    "#        11 - Dike ring 4\n",
    "#        12 - Dike ring 5\n",
    "#\n",
    "#    outcome_type options\n",
    "#        'time_series' (default)\n",
    "#        'scalar'\n",
    "\n",
    "\n",
    "model, planning_steps = get_model_for_actor_problem_formulation(12,outcome_type='scalar')"
   ]
  },
  {
   "cell_type": "code",
   "execution_count": 3,
   "metadata": {},
   "outputs": [
    {
     "name": "stdout",
     "output_type": "stream",
     "text": [
      "ScalarOutcome('Expected Annual Damage A3', variable_name=['A.5_Expected Annual Damage 0', 'A.5_Expected Annual Damage 1', 'A.5_Expected Annual Damage 2'], function=<function sum_over at 0x0000014DD6033F28>)\n",
      "ScalarOutcome('Investment Costs A3', variable_name=['A.5_Dike Investment Costs 0', 'A.5_Dike Investment Costs 1', 'A.5_Dike Investment Costs 2'], function=<function sum_over at 0x0000014DD6033F28>)\n",
      "ScalarOutcome('Expected Number of Deaths in A3', variable_name=['A.5_Expected Number of Deaths 0', 'A.5_Expected Number of Deaths 1', 'A.5_Expected Number of Deaths 2'], function=<function sum_over at 0x0000014DD6033F28>)\n"
     ]
    }
   ],
   "source": [
    "for outcome in model.outcomes:\n",
    "    print(repr(outcome))"
   ]
  },
  {
   "cell_type": "code",
   "execution_count": null,
   "metadata": {},
   "outputs": [
    {
     "name": "stderr",
     "output_type": "stream",
     "text": [
      "[MainProcess/INFO] pool started\n",
      "[MainProcess/INFO] performing 500 scenarios * 20 policies * 1 model(s) = 10000 experiments\n",
      "[MainProcess/INFO] 200 cases completed\n",
      "[MainProcess/INFO] 400 cases completed\n",
      "[MainProcess/INFO] 600 cases completed\n",
      "[MainProcess/INFO] 800 cases completed\n",
      "[MainProcess/INFO] 1000 cases completed\n",
      "[MainProcess/INFO] 1200 cases completed\n",
      "[MainProcess/INFO] 1400 cases completed\n",
      "[MainProcess/INFO] 1600 cases completed\n",
      "[MainProcess/INFO] 1800 cases completed\n",
      "[MainProcess/INFO] 2000 cases completed\n",
      "[MainProcess/INFO] 2200 cases completed\n",
      "[MainProcess/INFO] 2400 cases completed\n",
      "[MainProcess/INFO] 2600 cases completed\n",
      "[MainProcess/INFO] 2800 cases completed\n",
      "[MainProcess/INFO] 3000 cases completed\n",
      "[MainProcess/INFO] 3200 cases completed\n",
      "[MainProcess/INFO] 3400 cases completed\n"
     ]
    }
   ],
   "source": [
    "from ema_workbench import (MultiprocessingEvaluator, ema_logging,\n",
    "                           perform_experiments, SequentialEvaluator)\n",
    "ema_logging.log_to_stderr(ema_logging.INFO)\n",
    "\n",
    "if __name__ == '__main__':\n",
    "    n_scenarios = 100\n",
    "    n_policies = 100\n",
    "    \n",
    "    with MultiprocessingEvaluator(model) as evaluator:\n",
    "        experiments, outcomes = evaluator.perform_experiments(scenarios=n_scenarios, policies=n_policies, reporting_frequency=50)"
   ]
  },
  {
   "cell_type": "code",
   "execution_count": 9,
   "metadata": {},
   "outputs": [
    {
     "name": "stdout",
     "output_type": "stream",
     "text": [
      "1\n",
      "2\n",
      "3\n",
      "4\n",
      "5\n",
      "<ema_workbench.em_framework.model.Model object at 0x00000204F7D889E8>\n"
     ]
    }
   ],
   "source": [
    "models = {}\n",
    "dike_nums = [1,2,3,4,5]\n",
    "for num in dike_nums:\n",
    "    print(num)\n",
    "    models['A.{}'.format(num)] = get_model_for_actor_problem_formulation(\n",
    "    num+7, outcome_type='scalar')\n",
    "print(models['A.1'][0])"
   ]
  },
  {
   "cell_type": "code",
   "execution_count": 88,
   "metadata": {},
   "outputs": [
    {
     "ename": "AttributeError",
     "evalue": "'IntegerParameter' object has no attribute 'value'",
     "output_type": "error",
     "traceback": [
      "\u001b[1;31m---------------------------------------------------------------------------\u001b[0m",
      "\u001b[1;31mAttributeError\u001b[0m                            Traceback (most recent call last)",
      "\u001b[1;32m<ipython-input-88-d87395aa7a02>\u001b[0m in \u001b[0;36m<module>\u001b[1;34m()\u001b[0m\n\u001b[0;32m      1\u001b[0m \u001b[1;32mfor\u001b[0m \u001b[0mlever\u001b[0m \u001b[1;32min\u001b[0m \u001b[0mmodel\u001b[0m\u001b[1;33m.\u001b[0m\u001b[0mlevers\u001b[0m\u001b[1;33m:\u001b[0m\u001b[1;33m\u001b[0m\u001b[0m\n\u001b[1;32m----> 2\u001b[1;33m     \u001b[0mprint\u001b[0m \u001b[1;33m(\u001b[0m\u001b[0mlever\u001b[0m\u001b[1;33m.\u001b[0m\u001b[0mvalue\u001b[0m\u001b[1;33m)\u001b[0m\u001b[1;33m\u001b[0m\u001b[0m\n\u001b[0m",
      "\u001b[1;31mAttributeError\u001b[0m: 'IntegerParameter' object has no attribute 'value'"
     ]
    }
   ],
   "source": [
    "for lever in model.levers:\n",
    "    print (lever.value)"
   ]
  },
  {
   "cell_type": "code",
   "execution_count": 100,
   "metadata": {},
   "outputs": [],
   "source": [
    "experiments.policy??"
   ]
  },
  {
   "cell_type": "code",
   "execution_count": 104,
   "metadata": {},
   "outputs": [
    {
     "data": {
      "text/plain": [
       "0    18\n",
       "1    18\n",
       "2    19\n",
       "3    19\n",
       "Name: policy, dtype: object"
      ]
     },
     "execution_count": 104,
     "metadata": {},
     "output_type": "execute_result"
    }
   ],
   "source": [
    "experiments.policy"
   ]
  }
 ],
 "metadata": {
  "kernelspec": {
   "display_name": "Python 3",
   "language": "python",
   "name": "python3"
  },
  "language_info": {
   "codemirror_mode": {
    "name": "ipython",
    "version": 3
   },
   "file_extension": ".py",
   "mimetype": "text/x-python",
   "name": "python",
   "nbconvert_exporter": "python",
   "pygments_lexer": "ipython3",
   "version": "3.6.5"
  }
 },
 "nbformat": 4,
 "nbformat_minor": 2
}
