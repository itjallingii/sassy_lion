{
 "cells": [
  {
   "cell_type": "code",
   "execution_count": 65,
   "metadata": {},
   "outputs": [],
   "source": [
    "import numpy as np\n",
    "import scipy as sp\n",
    "import pandas as pd\n",
    "import matplotlib.pyplot as plt\n",
    "import seaborn as sns\n",
    "\n",
    "from ema_workbench import (Model, CategoricalParameter,\n",
    "                           ScalarOutcome, TimeSeriesOutcome, IntegerParameter, RealParameter)\n",
    "\n",
    "from dike_model_function_V2_0 import (DikeNetwork,DikeNetworkTS)  # @UnresolvedImport\n",
    "from problem_formulation_V2_0 import get_model_for_actor_problem_formulation"
   ]
  },
  {
   "cell_type": "code",
   "execution_count": 66,
   "metadata": {
    "scrolled": false
   },
   "outputs": [],
   "source": [
    "# Problem formulations:\n",
    "#    get_model_for_actor_problem_formulation(problem_formulation_id, outcome_type='time_series')\n",
    "#    problem_formulation_id options\n",
    "#        1 - RWS (GOOD)\n",
    "#        2 - Environmental interest group\n",
    "#        3 - Transport company \n",
    "#        4 - Delta commission\n",
    "#        5 - Gelderland (GOOD)\n",
    "#        6 - Overijssel (GOOD)s\n",
    "#        7 - Dike rings 1 and 2\n",
    "#        8 - Dike ring 3\n",
    "#        9 - Dike ring 4\n",
    "#        10 - Dike ring 5\n",
    "#\n",
    "#    outcome_type options\n",
    "#        'time_series' (default)\n",
    "#        'scalar'\n",
    "\n",
    "\n",
    "model, planning_steps = get_model_for_actor_problem_formulation(1,outcome_type='scalar')"
   ]
  },
  {
   "cell_type": "code",
   "execution_count": 60,
   "metadata": {
    "scrolled": true
   },
   "outputs": [
    {
     "name": "stdout",
     "output_type": "stream",
     "text": [
      "0_RfR 0\n",
      "0_RfR 1\n",
      "0_RfR 2\n",
      "1_RfR 0\n",
      "1_RfR 1\n",
      "1_RfR 2\n",
      "2_RfR 0\n",
      "2_RfR 1\n",
      "2_RfR 2\n",
      "3_RfR 0\n",
      "3_RfR 1\n",
      "3_RfR 2\n",
      "4_RfR 0\n",
      "4_RfR 1\n",
      "4_RfR 2\n",
      "EWS_DaysToThreat\n",
      "A.1_DikeIncrease 0\n",
      "A.1_DikeIncrease 1\n",
      "A.1_DikeIncrease 2\n",
      "A.2_DikeIncrease 0\n",
      "A.2_DikeIncrease 1\n",
      "A.2_DikeIncrease 2\n",
      "A.3_DikeIncrease 0\n",
      "A.3_DikeIncrease 1\n",
      "A.3_DikeIncrease 2\n",
      "A.4_DikeIncrease 0\n",
      "A.4_DikeIncrease 1\n",
      "A.4_DikeIncrease 2\n",
      "A.5_DikeIncrease 0\n",
      "A.5_DikeIncrease 1\n",
      "A.5_DikeIncrease 2\n"
     ]
    }
   ],
   "source": [
    "for lever in model.levers:\n",
    "    print(lever.name)"
   ]
  },
  {
   "cell_type": "code",
   "execution_count": 61,
   "metadata": {
    "scrolled": true
   },
   "outputs": [
    {
     "name": "stdout",
     "output_type": "stream",
     "text": [
      "CategoricalParameter('discount rate 0', [0, 1, 2, 3])\n",
      "CategoricalParameter('discount rate 1', [0, 1, 2, 3])\n",
      "CategoricalParameter('discount rate 2', [0, 1, 2, 3])\n",
      "IntegerParameter('A.0_ID flood wave shape', 0, 132)\n",
      "RealParameter('A.1_Bmax', 30, 350)\n",
      "RealParameter('A.1_pfail', 0, 1)\n",
      "CategoricalParameter('A.1_Brate', [0, 1, 2])\n",
      "RealParameter('A.2_Bmax', 30, 350)\n",
      "RealParameter('A.2_pfail', 0, 1)\n",
      "CategoricalParameter('A.2_Brate', [0, 1, 2])\n",
      "RealParameter('A.3_Bmax', 30, 350)\n",
      "RealParameter('A.3_pfail', 0, 1)\n",
      "CategoricalParameter('A.3_Brate', [0, 1, 2])\n",
      "RealParameter('A.4_Bmax', 30, 350)\n",
      "RealParameter('A.4_pfail', 0, 1)\n",
      "CategoricalParameter('A.4_Brate', [0, 1, 2])\n",
      "RealParameter('A.5_Bmax', 30, 350)\n",
      "RealParameter('A.5_pfail', 0, 1)\n",
      "CategoricalParameter('A.5_Brate', [0, 1, 2])\n"
     ]
    }
   ],
   "source": [
    "for unc in model.uncertainties:\n",
    "    print(repr(unc))"
   ]
  },
  {
   "cell_type": "code",
   "execution_count": 62,
   "metadata": {},
   "outputs": [
    {
     "name": "stdout",
     "output_type": "stream",
     "text": [
      "ScalarOutcome('Expected Annual Damage', variable_name=['A.1_Expected Annual Damage 0', 'A.1_Expected Annual Damage 1', 'A.1_Expected Annual Damage 2', 'A.2_Expected Annual Damage 0', 'A.2_Expected Annual Damage 1', 'A.2_Expected Annual Damage 2', 'A.3_Expected Annual Damage 0', 'A.3_Expected Annual Damage 1', 'A.3_Expected Annual Damage 2', 'A.4_Expected Annual Damage 0', 'A.4_Expected Annual Damage 1', 'A.4_Expected Annual Damage 2', 'A.5_Expected Annual Damage 0', 'A.5_Expected Annual Damage 1', 'A.5_Expected Annual Damage 2'], function=<function sum_over at 0x0000018433AD0F28>)\n",
      "ScalarOutcome('Total Investment Costs', variable_name=['A.1_Dike Investment Costs 0', 'A.1_Dike Investment Costs 1', 'A.1_Dike Investment Costs 2', 'A.2_Dike Investment Costs 0', 'A.2_Dike Investment Costs 1', 'A.2_Dike Investment Costs 2', 'A.3_Dike Investment Costs 0', 'A.3_Dike Investment Costs 1', 'A.3_Dike Investment Costs 2', 'A.4_Dike Investment Costs 0', 'A.4_Dike Investment Costs 1', 'A.4_Dike Investment Costs 2', 'A.5_Dike Investment Costs 0', 'A.5_Dike Investment Costs 1', 'A.5_Dike Investment Costs 2', 'RfR Total Costs 0', 'RfR Total Costs 1', 'RfR Total Costs 2', 'Expected Evacuation Costs 0', 'Expected Evacuation Costs 1', 'Expected Evacuation Costs 2'], function=<function sum_over at 0x0000018433AD0F28>)\n",
      "ScalarOutcome('Expected Number of Deaths', variable_name=['A.1_Expected Number of Deaths 0', 'A.1_Expected Number of Deaths 1', 'A.1_Expected Number of Deaths 2', 'A.2_Expected Number of Deaths 0', 'A.2_Expected Number of Deaths 1', 'A.2_Expected Number of Deaths 2', 'A.3_Expected Number of Deaths 0', 'A.3_Expected Number of Deaths 1', 'A.3_Expected Number of Deaths 2', 'A.4_Expected Number of Deaths 0', 'A.4_Expected Number of Deaths 1', 'A.4_Expected Number of Deaths 2', 'A.5_Expected Number of Deaths 0', 'A.5_Expected Number of Deaths 1', 'A.5_Expected Number of Deaths 2'], function=<function sum_over at 0x0000018433AD0F28>)\n"
     ]
    }
   ],
   "source": [
    "for outcome in model.outcomes:\n",
    "    print(repr(outcome))"
   ]
  },
  {
   "cell_type": "code",
   "execution_count": 99,
   "metadata": {},
   "outputs": [
    {
     "name": "stderr",
     "output_type": "stream",
     "text": [
      "[MainProcess/INFO] performing 2 scenarios * 2 policies * 1 model(s) = 4 experiments\n",
      "[MainProcess/INFO] performing experiments sequentially\n",
      "[MainProcess/INFO] 1 cases completed\n"
     ]
    },
    {
     "name": "stdout",
     "output_type": "stream",
     "text": [
      "483492863.96400064\n",
      "1838184746.2696574\n",
      "0.13476663979617384\n"
     ]
    },
    {
     "name": "stderr",
     "output_type": "stream",
     "text": [
      "[MainProcess/INFO] 2 cases completed\n"
     ]
    },
    {
     "name": "stdout",
     "output_type": "stream",
     "text": [
      "5661944.63564176\n",
      "1838143530.600632\n",
      "0.0006400119568334783\n"
     ]
    },
    {
     "name": "stderr",
     "output_type": "stream",
     "text": [
      "[MainProcess/INFO] 3 cases completed\n"
     ]
    },
    {
     "name": "stdout",
     "output_type": "stream",
     "text": [
      "43343557.719402805\n",
      "1805153879.2636461\n",
      "0.030214646623821787\n"
     ]
    },
    {
     "name": "stderr",
     "output_type": "stream",
     "text": [
      "[MainProcess/INFO] 4 cases completed\n",
      "[MainProcess/INFO] experiments finished\n"
     ]
    },
    {
     "name": "stdout",
     "output_type": "stream",
     "text": [
      "0.0\n",
      "1805152193.1683574\n",
      "0.0\n"
     ]
    }
   ],
   "source": [
    "from ema_workbench import (MultiprocessingEvaluator, ema_logging,\n",
    "                           perform_experiments, SequentialEvaluator)\n",
    "ema_logging.log_to_stderr(ema_logging.INFO)\n",
    " \n",
    "with SequentialEvaluator(model) as evaluator:\n",
    "    experiments, outcomes = evaluator.perform_experiments(scenarios=2, policies=2)"
   ]
  },
  {
   "cell_type": "code",
   "execution_count": 36,
   "metadata": {},
   "outputs": [
    {
     "data": {
      "text/plain": [
       "{'Expected Annual Damage': array([      0.        ,       0.        , 4522096.86269821,\n",
       "        6420844.915181  ]),\n",
       " 'Total Investment Costs': array([2.0502965e+09, 2.0502965e+09, 1.5293787e+09, 1.5293787e+09]),\n",
       " 'Expected Number of Deaths': array([0.        , 0.        , 0.00512098, 0.00468585])}"
      ]
     },
     "execution_count": 36,
     "metadata": {},
     "output_type": "execute_result"
    }
   ],
   "source": [
    "outcomes"
   ]
  },
  {
   "cell_type": "code",
   "execution_count": 28,
   "metadata": {},
   "outputs": [
    {
     "data": {
      "text/plain": [
       "{'A.1_Expected Annual Damage': array([[0., 0., 0.],\n",
       "        [0., 0., 0.],\n",
       "        [0., 0., 0.],\n",
       "        [0., 0., 0.]]), 'A.1_Expected Number of Deaths': array([[0., 0., 0.],\n",
       "        [0., 0., 0.],\n",
       "        [0., 0., 0.],\n",
       "        [0., 0., 0.]]), 'A.2_Expected Annual Damage': array([[      0.        ,       0.        ,       0.        ],\n",
       "        [7204936.18524066,       0.        ,       0.        ],\n",
       "        [      0.        ,       0.        ,       0.        ],\n",
       "        [      0.        ,       0.        ,       0.        ]]), 'A.2_Expected Number of Deaths': array([[0.       , 0.       , 0.       ],\n",
       "        [0.0024376, 0.       , 0.       ],\n",
       "        [0.       , 0.       , 0.       ],\n",
       "        [0.       , 0.       , 0.       ]]), 'A.3_Expected Annual Damage': array([[0.00000000e+00, 0.00000000e+00, 0.00000000e+00],\n",
       "        [5.38102895e+08, 1.18975145e+06, 1.18975145e+06],\n",
       "        [0.00000000e+00, 0.00000000e+00, 0.00000000e+00],\n",
       "        [0.00000000e+00, 0.00000000e+00, 0.00000000e+00]]), 'A.3_Expected Number of Deaths': array([[0.        , 0.        , 0.        ],\n",
       "        [0.30621692, 0.00116194, 0.00116194],\n",
       "        [0.        , 0.        , 0.        ],\n",
       "        [0.        , 0.        , 0.        ]]), 'A.4_Expected Annual Damage': array([[0., 0., 0.],\n",
       "        [0., 0., 0.],\n",
       "        [0., 0., 0.],\n",
       "        [0., 0., 0.]]), 'A.4_Expected Number of Deaths': array([[0., 0., 0.],\n",
       "        [0., 0., 0.],\n",
       "        [0., 0., 0.],\n",
       "        [0., 0., 0.]]), 'A.5_Expected Annual Damage': array([[     0.        ,      0.        ,      0.        ],\n",
       "        [     0.        ,      0.        ,      0.        ],\n",
       "        [103081.61326665,      0.        ,      0.        ],\n",
       "        [     0.        ,      0.        ,      0.        ]]), 'A.5_Expected Number of Deaths': array([[0.00000000e+00, 0.00000000e+00, 0.00000000e+00],\n",
       "        [0.00000000e+00, 0.00000000e+00, 0.00000000e+00],\n",
       "        [1.39016776e-05, 0.00000000e+00, 0.00000000e+00],\n",
       "        [0.00000000e+00, 0.00000000e+00, 0.00000000e+00]]), 'Total Investment Costs': array([[6.95188551e+08, 2.38126472e+08, 5.88546844e+08],\n",
       "        [6.95201698e+08, 2.38126509e+08, 5.88546881e+08],\n",
       "        [4.24348294e+08, 9.30194444e+08, 6.49819060e+08],\n",
       "        [4.24348286e+08, 9.30194444e+08, 6.49819060e+08]])}"
      ]
     },
     "execution_count": 28,
     "metadata": {},
     "output_type": "execute_result"
    }
   ],
   "source": [
    "outcomes"
   ]
  },
  {
   "cell_type": "code",
   "execution_count": 88,
   "metadata": {},
   "outputs": [
    {
     "ename": "AttributeError",
     "evalue": "'IntegerParameter' object has no attribute 'value'",
     "output_type": "error",
     "traceback": [
      "\u001b[1;31m---------------------------------------------------------------------------\u001b[0m",
      "\u001b[1;31mAttributeError\u001b[0m                            Traceback (most recent call last)",
      "\u001b[1;32m<ipython-input-88-d87395aa7a02>\u001b[0m in \u001b[0;36m<module>\u001b[1;34m()\u001b[0m\n\u001b[0;32m      1\u001b[0m \u001b[1;32mfor\u001b[0m \u001b[0mlever\u001b[0m \u001b[1;32min\u001b[0m \u001b[0mmodel\u001b[0m\u001b[1;33m.\u001b[0m\u001b[0mlevers\u001b[0m\u001b[1;33m:\u001b[0m\u001b[1;33m\u001b[0m\u001b[0m\n\u001b[1;32m----> 2\u001b[1;33m     \u001b[0mprint\u001b[0m \u001b[1;33m(\u001b[0m\u001b[0mlever\u001b[0m\u001b[1;33m.\u001b[0m\u001b[0mvalue\u001b[0m\u001b[1;33m)\u001b[0m\u001b[1;33m\u001b[0m\u001b[0m\n\u001b[0m",
      "\u001b[1;31mAttributeError\u001b[0m: 'IntegerParameter' object has no attribute 'value'"
     ]
    }
   ],
   "source": [
    "for lever in model.levers:\n",
    "    print (lever.value)"
   ]
  },
  {
   "cell_type": "code",
   "execution_count": 100,
   "metadata": {},
   "outputs": [],
   "source": [
    "experiments.policy??"
   ]
  },
  {
   "cell_type": "code",
   "execution_count": 104,
   "metadata": {},
   "outputs": [
    {
     "data": {
      "text/plain": [
       "0    18\n",
       "1    18\n",
       "2    19\n",
       "3    19\n",
       "Name: policy, dtype: object"
      ]
     },
     "execution_count": 104,
     "metadata": {},
     "output_type": "execute_result"
    }
   ],
   "source": [
    "experiments.policy"
   ]
  }
 ],
 "metadata": {
  "kernelspec": {
   "display_name": "Python 3",
   "language": "python",
   "name": "python3"
  },
  "language_info": {
   "codemirror_mode": {
    "name": "ipython",
    "version": 3
   },
   "file_extension": ".py",
   "mimetype": "text/x-python",
   "name": "python",
   "nbconvert_exporter": "python",
   "pygments_lexer": "ipython3",
   "version": "3.6.5"
  }
 },
 "nbformat": 4,
 "nbformat_minor": 2
}
