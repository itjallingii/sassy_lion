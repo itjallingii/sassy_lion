{
 "cells": [
  {
   "cell_type": "code",
   "execution_count": 10,
   "metadata": {},
   "outputs": [
    {
     "name": "stderr",
     "output_type": "stream",
     "text": [
      "[MainProcess/INFO] results loaded succesfully from C:\\Users\\epron\\Dropbox\\EPA1361\\sassy_lion\\ErikWorkingFolder\\A.1_results.tar.gz\n",
      "[MainProcess/INFO] results loaded succesfully from C:\\Users\\epron\\Dropbox\\EPA1361\\sassy_lion\\ErikWorkingFolder\\A.2_results.tar.gz\n"
     ]
    }
   ],
   "source": [
    "import numpy as np\n",
    "import scipy as sp\n",
    "import pandas as pd\n",
    "import matplotlib.pyplot as plt\n",
    "import seaborn as sns\n",
    "import sys\n",
    "\n",
    "from ema_workbench import (Model, CategoricalParameter, ScalarOutcome, \n",
    "                           TimeSeriesOutcome, IntegerParameter, RealParameter,\n",
    "                           MultiprocessingEvaluator, ema_logging,\n",
    "                           perform_experiments, SequentialEvaluator)\n",
    "\n",
    "from ema_workbench.analysis import prim\n",
    "\n",
    "from ema_workbench.util.utilities import load_results\n",
    "\n",
    "def load_tar(dike_names):\n",
    "\tresults = {}\n",
    "\tfor name in dike_names:\n",
    "\t\tresults[name] = load_results('{}_results.tar.gz'.format(name))\n",
    "\treturn results\n",
    "\n",
    "# def do_prim(results):\n",
    "# \tprim_boxes = {}\n",
    "# \tx = \n",
    "# \ty = \n",
    "# \tfor key in results.keys():\n",
    "# \t\tprim_alg = prim.Prim(x, y, threshold=0.6)\n",
    "# \t\tprim_boxes[key]\n",
    "\n",
    "if __name__ == '__main__':\n",
    "\tema_logging.log_to_stderr(ema_logging.INFO)\n",
    "\n",
    "\tdike_names = ['A.1','A.2']\n",
    "\t# dike_names = ['A.1','A.2','A.3','A.4','A.5']\n",
    "\tresults = load_tar(dike_names)"
   ]
  },
  {
   "cell_type": "code",
   "execution_count": null,
   "metadata": {},
   "outputs": [],
   "source": [
    "from ema_workbench import MultiprocessingEvaluator"
   ]
  },
  {
   "cell_type": "code",
   "execution_count": null,
   "metadata": {},
   "outputs": [],
   "source": [
    "MultiprocessingEvaluator"
   ]
  }
 ],
 "metadata": {
  "kernelspec": {
   "display_name": "Python 3",
   "language": "python",
   "name": "python3"
  },
  "language_info": {
   "codemirror_mode": {
    "name": "ipython",
    "version": 3
   },
   "file_extension": ".py",
   "mimetype": "text/x-python",
   "name": "python",
   "nbconvert_exporter": "python",
   "pygments_lexer": "ipython3",
   "version": "3.6.5"
  }
 },
 "nbformat": 4,
 "nbformat_minor": 2
}
