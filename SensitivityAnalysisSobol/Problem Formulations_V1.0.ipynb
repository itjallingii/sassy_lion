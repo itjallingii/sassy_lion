{
 "cells": [
  {
   "cell_type": "code",
   "execution_count": 4,
   "metadata": {},
   "outputs": [],
   "source": [
    "import numpy as np\n",
    "import scipy as sp\n",
    "import pandas as pd\n",
    "import matplotlib.pyplot as plt\n",
    "import seaborn as sns"
   ]
  },
  {
   "cell_type": "code",
   "execution_count": 5,
   "metadata": {
    "scrolled": true
   },
   "outputs": [],
   "source": [
    "from ema_workbench import (Model, CategoricalParameter,\n",
    "                           ScalarOutcome, IntegerParameter, RealParameter)\n",
    "from dike_model_function import DikeNetwork  # @UnresolvedImport\n",
    "\n",
    "\n",
    "def sum_over(*args):\n",
    "    return sum(args)"
   ]
  },
  {
   "cell_type": "code",
   "execution_count": 6,
   "metadata": {},
   "outputs": [],
   "source": [
    "from ema_workbench import (Model, MultiprocessingEvaluator, Policy, Scenario)\n",
    "\n",
    "from ema_workbench.em_framework.evaluators import perform_experiments\n",
    "from ema_workbench.em_framework.samplers import sample_uncertainties\n",
    "from ema_workbench.util import ema_logging\n",
    "import time\n",
    "from problem_formulation import get_model_for_problem_formulation\n",
    "\n",
    "\n",
    "ema_logging.log_to_stderr(ema_logging.INFO)\n",
    "\n",
    "dike_model, planning_steps = get_model_for_problem_formulation(3)"
   ]
  },
  {
   "cell_type": "code",
   "execution_count": 7,
   "metadata": {
    "scrolled": true
   },
   "outputs": [
    {
     "name": "stdout",
     "output_type": "stream",
     "text": [
      "CategoricalParameter('discount rate 0', [0, 1, 2, 3])\n",
      "CategoricalParameter('discount rate 1', [0, 1, 2, 3])\n",
      "CategoricalParameter('discount rate 2', [0, 1, 2, 3])\n",
      "IntegerParameter('A.0_ID flood wave shape', 0, 132)\n",
      "RealParameter('A.1_Bmax', 30, 350)\n",
      "RealParameter('A.1_pfail', 0, 1)\n",
      "CategoricalParameter('A.1_Brate', [0, 1, 2])\n",
      "RealParameter('A.2_Bmax', 30, 350)\n",
      "RealParameter('A.2_pfail', 0, 1)\n",
      "CategoricalParameter('A.2_Brate', [0, 1, 2])\n",
      "RealParameter('A.3_Bmax', 30, 350)\n",
      "RealParameter('A.3_pfail', 0, 1)\n",
      "CategoricalParameter('A.3_Brate', [0, 1, 2])\n",
      "RealParameter('A.4_Bmax', 30, 350)\n",
      "RealParameter('A.4_pfail', 0, 1)\n",
      "CategoricalParameter('A.4_Brate', [0, 1, 2])\n",
      "RealParameter('A.5_Bmax', 30, 350)\n",
      "RealParameter('A.5_pfail', 0, 1)\n",
      "CategoricalParameter('A.5_Brate', [0, 1, 2])\n"
     ]
    }
   ],
   "source": [
    "for unc in dike_model.uncertainties:\n",
    "    print(repr(unc))\n",
    "    \n",
    "uncertainties = dike_model.uncertainties\n",
    "\n",
    "import copy\n",
    "uncertainties = copy.deepcopy(dike_model.uncertainties)"
   ]
  },
  {
   "cell_type": "code",
   "execution_count": 8,
   "metadata": {},
   "outputs": [
    {
     "name": "stdout",
     "output_type": "stream",
     "text": [
      "IntegerParameter('0_RfR 0', 0, 1)\n",
      "IntegerParameter('0_RfR 1', 0, 1)\n",
      "IntegerParameter('0_RfR 2', 0, 1)\n",
      "IntegerParameter('1_RfR 0', 0, 1)\n",
      "IntegerParameter('1_RfR 1', 0, 1)\n",
      "IntegerParameter('1_RfR 2', 0, 1)\n",
      "IntegerParameter('2_RfR 0', 0, 1)\n",
      "IntegerParameter('2_RfR 1', 0, 1)\n",
      "IntegerParameter('2_RfR 2', 0, 1)\n",
      "IntegerParameter('3_RfR 0', 0, 1)\n",
      "IntegerParameter('3_RfR 1', 0, 1)\n",
      "IntegerParameter('3_RfR 2', 0, 1)\n",
      "IntegerParameter('4_RfR 0', 0, 1)\n",
      "IntegerParameter('4_RfR 1', 0, 1)\n",
      "IntegerParameter('4_RfR 2', 0, 1)\n",
      "IntegerParameter('EWS_DaysToThreat', 0, 4)\n",
      "IntegerParameter('A.1_DikeIncrease 0', 0, 10)\n",
      "IntegerParameter('A.1_DikeIncrease 1', 0, 10)\n",
      "IntegerParameter('A.1_DikeIncrease 2', 0, 10)\n",
      "IntegerParameter('A.2_DikeIncrease 0', 0, 10)\n",
      "IntegerParameter('A.2_DikeIncrease 1', 0, 10)\n",
      "IntegerParameter('A.2_DikeIncrease 2', 0, 10)\n",
      "IntegerParameter('A.3_DikeIncrease 0', 0, 10)\n",
      "IntegerParameter('A.3_DikeIncrease 1', 0, 10)\n",
      "IntegerParameter('A.3_DikeIncrease 2', 0, 10)\n",
      "IntegerParameter('A.4_DikeIncrease 0', 0, 10)\n",
      "IntegerParameter('A.4_DikeIncrease 1', 0, 10)\n",
      "IntegerParameter('A.4_DikeIncrease 2', 0, 10)\n",
      "IntegerParameter('A.5_DikeIncrease 0', 0, 10)\n",
      "IntegerParameter('A.5_DikeIncrease 1', 0, 10)\n",
      "IntegerParameter('A.5_DikeIncrease 2', 0, 10)\n"
     ]
    }
   ],
   "source": [
    "for policy in dike_model.levers:\n",
    "    print(repr(policy))\n",
    "    \n",
    "levers = dike_model.levers \n",
    "\n",
    "import copy\n",
    "levers = copy.deepcopy(dike_model.levers)\n"
   ]
  },
  {
   "cell_type": "code",
   "execution_count": 9,
   "metadata": {
    "scrolled": true
   },
   "outputs": [
    {
     "name": "stdout",
     "output_type": "stream",
     "text": [
      "ScalarOutcome('A.1 Total Costs', variable_name=['A.1_Expected Annual Damage 0', 'A.1_Expected Annual Damage 1', 'A.1_Expected Annual Damage 2', 'A.1_Dike Investment Costs 0', 'A.1_Dike Investment Costs 1', 'A.1_Dike Investment Costs 2'], function=<function sum_over at 0x1c1c8c30d0>)\n",
      "ScalarOutcome('A.1_Expected Number of Deaths', variable_name=['A.1_Expected Number of Deaths 0', 'A.1_Expected Number of Deaths 1', 'A.1_Expected Number of Deaths 2'], function=<function sum_over at 0x1c1c8c30d0>)\n",
      "ScalarOutcome('A.2 Total Costs', variable_name=['A.2_Expected Annual Damage 0', 'A.2_Expected Annual Damage 1', 'A.2_Expected Annual Damage 2', 'A.2_Dike Investment Costs 0', 'A.2_Dike Investment Costs 1', 'A.2_Dike Investment Costs 2'], function=<function sum_over at 0x1c1c8c30d0>)\n",
      "ScalarOutcome('A.2_Expected Number of Deaths', variable_name=['A.2_Expected Number of Deaths 0', 'A.2_Expected Number of Deaths 1', 'A.2_Expected Number of Deaths 2'], function=<function sum_over at 0x1c1c8c30d0>)\n",
      "ScalarOutcome('A.3 Total Costs', variable_name=['A.3_Expected Annual Damage 0', 'A.3_Expected Annual Damage 1', 'A.3_Expected Annual Damage 2', 'A.3_Dike Investment Costs 0', 'A.3_Dike Investment Costs 1', 'A.3_Dike Investment Costs 2'], function=<function sum_over at 0x1c1c8c30d0>)\n",
      "ScalarOutcome('A.3_Expected Number of Deaths', variable_name=['A.3_Expected Number of Deaths 0', 'A.3_Expected Number of Deaths 1', 'A.3_Expected Number of Deaths 2'], function=<function sum_over at 0x1c1c8c30d0>)\n",
      "ScalarOutcome('A.4 Total Costs', variable_name=['A.4_Expected Annual Damage 0', 'A.4_Expected Annual Damage 1', 'A.4_Expected Annual Damage 2', 'A.4_Dike Investment Costs 0', 'A.4_Dike Investment Costs 1', 'A.4_Dike Investment Costs 2'], function=<function sum_over at 0x1c1c8c30d0>)\n",
      "ScalarOutcome('A.4_Expected Number of Deaths', variable_name=['A.4_Expected Number of Deaths 0', 'A.4_Expected Number of Deaths 1', 'A.4_Expected Number of Deaths 2'], function=<function sum_over at 0x1c1c8c30d0>)\n",
      "ScalarOutcome('A.5 Total Costs', variable_name=['A.5_Expected Annual Damage 0', 'A.5_Expected Annual Damage 1', 'A.5_Expected Annual Damage 2', 'A.5_Dike Investment Costs 0', 'A.5_Dike Investment Costs 1', 'A.5_Dike Investment Costs 2'], function=<function sum_over at 0x1c1c8c30d0>)\n",
      "ScalarOutcome('A.5_Expected Number of Deaths', variable_name=['A.5_Expected Number of Deaths 0', 'A.5_Expected Number of Deaths 1', 'A.5_Expected Number of Deaths 2'], function=<function sum_over at 0x1c1c8c30d0>)\n",
      "ScalarOutcome('RfR Total Costs', variable_name=['RfR Total Costs 0', 'RfR Total Costs 1', 'RfR Total Costs 2'], function=<function sum_over at 0x1c1c8c30d0>)\n",
      "ScalarOutcome('Expected Evacuation Costs', variable_name=['Expected Evacuation Costs 0', 'Expected Evacuation Costs 1', 'Expected Evacuation Costs 2'], function=<function sum_over at 0x1c1c8c30d0>)\n"
     ]
    }
   ],
   "source": [
    "for outcome in dike_model.outcomes:\n",
    "    print(repr(outcome))"
   ]
  },
  {
   "cell_type": "code",
   "execution_count": 10,
   "metadata": {},
   "outputs": [],
   "source": [
    "from ema_workbench import ScalarOutcome"
   ]
  },
  {
   "cell_type": "code",
   "execution_count": 11,
   "metadata": {},
   "outputs": [],
   "source": [
    "def problem_formulation_actor(problem_formulation_actor):\n",
    "   \n",
    "    # Load the model:\n",
    "    function = DikeNetwork()\n",
    "    # workbench model:\n",
    "    model = Model('dikesnet', function=function)\n",
    "    # Outcomes are all costs, thus they have to minimized:\n",
    "    direction = ScalarOutcome.MINIMIZE\n",
    "    \n",
    "    model.uncertainties = uncertainties\n",
    "    model.levers = levers\n",
    "\n",
    "    if problem_formulation_actor == 4: # RWS\n",
    "        model.outcomes.clear()\n",
    "        model.outcomes = [\n",
    "            ScalarOutcome('Expected Annual Damage',\n",
    "                            variable_name=['{}_Expected Annual Damage {}'.format(dike, steps) for dike in function.dikelist for steps in function.planning_steps],\n",
    "                            function=sum_over, kind=direction),\n",
    "\n",
    "            ScalarOutcome('Total Investment Costs',\n",
    "                            variable_name=['{}_Dike Investment Costs {}'.format(dike, steps) for dike in function.dikelist for steps in function.planning_steps]+\n",
    "                          ['RfR Total Costs {}'.format(steps) for steps in function.planning_steps]+\n",
    "                          ['Expected Evacuation Costs {}'.format(steps) for steps in function.planning_steps],\n",
    "                            function=sum_over, kind=direction),\n",
    "\n",
    "            ScalarOutcome('Expected Number of Deaths',\n",
    "                            variable_name=['{}_Expected Number of Deaths {}'.format(dike, steps) for dike in function.dikelist for steps in function.planning_steps],\n",
    "                            function=sum_over, kind=direction)] \n",
    "    \n",
    "    elif problem_formulation_actor == 5: # GELDERLAND\n",
    "        model.outcomes.clear()\n",
    "        model.outcomes = [\n",
    "            ScalarOutcome('Expected Annual Damage A1-4',\n",
    "                            variable_name=['{}_Expected Annual Damage {}'.format(dike, steps) for dike in function.dikelist[:-1] for steps in function.planning_steps], \n",
    "                          function=sum_over, kind=direction),\n",
    "\n",
    "            ScalarOutcome('Investment Costs A1-4',\n",
    "                            variable_name=['{}_Dike Investment Costs {}'.format(dike, steps) for dike in function.dikelist[:-1] for steps in function.planning_steps], \n",
    "                          function=sum_over, kind=direction),\n",
    "\n",
    "            ScalarOutcome('Expected Number of Deaths in A1-4',\n",
    "                            variable_name=['{}_Expected Number of Deaths {}'.format(dike, steps) for dike in function.dikelist[:-1] for steps in function.planning_steps],\n",
    "                          function=sum_over, kind=direction)]\n",
    "\n",
    "    elif problem_formulation_actor == 6: # OVERIJSSEL\n",
    "        model.outcomes.clear()\n",
    "        model.outcomes = [\n",
    "            ScalarOutcome('Expected Annual Damage A5', variable_name=['A.5_Expected Annual Damage {}'.format(steps) for steps in function.planning_steps], function=sum_over, kind=direction),\n",
    "\n",
    "            ScalarOutcome('Investment Costs A5', variable_name=['A.5_Dike Investment Costs {}'.format(steps) for steps in function.planning_steps], function=sum_over, kind=direction),\n",
    "\n",
    "            ScalarOutcome('Expected Number of Deaths in A5', variable_name=['A.5_Expected Number of Deaths {}'.format(steps) for steps in function.planning_steps], function=sum_over, kind=direction)]\n",
    "    \n",
    "    else:\n",
    "        raise TypeError('unknown identifier')\n",
    "    return model"
   ]
  },
  {
   "cell_type": "code",
   "execution_count": 108,
   "metadata": {
    "scrolled": false
   },
   "outputs": [],
   "source": [
    "model = problem_formulation_actor(4)"
   ]
  },
  {
   "cell_type": "code",
   "execution_count": 109,
   "metadata": {},
   "outputs": [
    {
     "data": {
      "text/plain": [
       "<ema_workbench.em_framework.model.Model at 0x1c2611dda0>"
      ]
     },
     "execution_count": 109,
     "metadata": {},
     "output_type": "execute_result"
    }
   ],
   "source": [
    "model"
   ]
  },
  {
   "cell_type": "code",
   "execution_count": 110,
   "metadata": {
    "scrolled": true
   },
   "outputs": [
    {
     "name": "stdout",
     "output_type": "stream",
     "text": [
      "0_RfR 0\n",
      "0_RfR 1\n",
      "0_RfR 2\n",
      "1_RfR 0\n",
      "1_RfR 1\n",
      "1_RfR 2\n",
      "2_RfR 0\n",
      "2_RfR 1\n",
      "2_RfR 2\n",
      "3_RfR 0\n",
      "3_RfR 1\n",
      "3_RfR 2\n",
      "4_RfR 0\n",
      "4_RfR 1\n",
      "4_RfR 2\n",
      "EWS_DaysToThreat\n",
      "A.1_DikeIncrease 0\n",
      "A.1_DikeIncrease 1\n",
      "A.1_DikeIncrease 2\n",
      "A.2_DikeIncrease 0\n",
      "A.2_DikeIncrease 1\n",
      "A.2_DikeIncrease 2\n",
      "A.3_DikeIncrease 0\n",
      "A.3_DikeIncrease 1\n",
      "A.3_DikeIncrease 2\n",
      "A.4_DikeIncrease 0\n",
      "A.4_DikeIncrease 1\n",
      "A.4_DikeIncrease 2\n",
      "A.5_DikeIncrease 0\n",
      "A.5_DikeIncrease 1\n",
      "A.5_DikeIncrease 2\n"
     ]
    }
   ],
   "source": [
    "for lever in model.levers:\n",
    "    print(lever.name)"
   ]
  },
  {
   "cell_type": "code",
   "execution_count": 111,
   "metadata": {
    "scrolled": true
   },
   "outputs": [
    {
     "name": "stdout",
     "output_type": "stream",
     "text": [
      "CategoricalParameter('discount rate 0', [0, 1, 2, 3])\n",
      "CategoricalParameter('discount rate 1', [0, 1, 2, 3])\n",
      "CategoricalParameter('discount rate 2', [0, 1, 2, 3])\n",
      "IntegerParameter('A.0_ID flood wave shape', 0, 132)\n",
      "RealParameter('A.1_Bmax', 30, 350)\n",
      "RealParameter('A.1_pfail', 0, 1)\n",
      "CategoricalParameter('A.1_Brate', [0, 1, 2])\n",
      "RealParameter('A.2_Bmax', 30, 350)\n",
      "RealParameter('A.2_pfail', 0, 1)\n",
      "CategoricalParameter('A.2_Brate', [0, 1, 2])\n",
      "RealParameter('A.3_Bmax', 30, 350)\n",
      "RealParameter('A.3_pfail', 0, 1)\n",
      "CategoricalParameter('A.3_Brate', [0, 1, 2])\n",
      "RealParameter('A.4_Bmax', 30, 350)\n",
      "RealParameter('A.4_pfail', 0, 1)\n",
      "CategoricalParameter('A.4_Brate', [0, 1, 2])\n",
      "RealParameter('A.5_Bmax', 30, 350)\n",
      "RealParameter('A.5_pfail', 0, 1)\n",
      "CategoricalParameter('A.5_Brate', [0, 1, 2])\n"
     ]
    }
   ],
   "source": [
    "for unc in model.uncertainties:\n",
    "    print(repr(unc))"
   ]
  },
  {
   "cell_type": "code",
   "execution_count": 112,
   "metadata": {},
   "outputs": [
    {
     "name": "stdout",
     "output_type": "stream",
     "text": [
      "ScalarOutcome('Expected Annual Damage', variable_name=['A.1_Expected Annual Damage 0', 'A.1_Expected Annual Damage 1', 'A.1_Expected Annual Damage 2', 'A.2_Expected Annual Damage 0', 'A.2_Expected Annual Damage 1', 'A.2_Expected Annual Damage 2', 'A.3_Expected Annual Damage 0', 'A.3_Expected Annual Damage 1', 'A.3_Expected Annual Damage 2', 'A.4_Expected Annual Damage 0', 'A.4_Expected Annual Damage 1', 'A.4_Expected Annual Damage 2', 'A.5_Expected Annual Damage 0', 'A.5_Expected Annual Damage 1', 'A.5_Expected Annual Damage 2'], function=<function sum_over at 0x1c1c8c6a60>)\n",
      "ScalarOutcome('Total Investment Costs', variable_name=['A.1_Dike Investment Costs 0', 'A.1_Dike Investment Costs 1', 'A.1_Dike Investment Costs 2', 'A.2_Dike Investment Costs 0', 'A.2_Dike Investment Costs 1', 'A.2_Dike Investment Costs 2', 'A.3_Dike Investment Costs 0', 'A.3_Dike Investment Costs 1', 'A.3_Dike Investment Costs 2', 'A.4_Dike Investment Costs 0', 'A.4_Dike Investment Costs 1', 'A.4_Dike Investment Costs 2', 'A.5_Dike Investment Costs 0', 'A.5_Dike Investment Costs 1', 'A.5_Dike Investment Costs 2', 'RfR Total Costs 0', 'RfR Total Costs 1', 'RfR Total Costs 2', 'Expected Evacuation Costs 0', 'Expected Evacuation Costs 1', 'Expected Evacuation Costs 2'], function=<function sum_over at 0x1c1c8c6a60>)\n",
      "ScalarOutcome('Expected Number of Deaths', variable_name=['A.1_Expected Number of Deaths 0', 'A.1_Expected Number of Deaths 1', 'A.1_Expected Number of Deaths 2', 'A.2_Expected Number of Deaths 0', 'A.2_Expected Number of Deaths 1', 'A.2_Expected Number of Deaths 2', 'A.3_Expected Number of Deaths 0', 'A.3_Expected Number of Deaths 1', 'A.3_Expected Number of Deaths 2', 'A.4_Expected Number of Deaths 0', 'A.4_Expected Number of Deaths 1', 'A.4_Expected Number of Deaths 2', 'A.5_Expected Number of Deaths 0', 'A.5_Expected Number of Deaths 1', 'A.5_Expected Number of Deaths 2'], function=<function sum_over at 0x1c1c8c6a60>)\n"
     ]
    }
   ],
   "source": [
    "for outcome in model.outcomes:\n",
    "    print(repr(outcome))"
   ]
  },
  {
   "cell_type": "code",
   "execution_count": 113,
   "metadata": {},
   "outputs": [
    {
     "name": "stderr",
     "output_type": "stream",
     "text": [
      "[MainProcess/INFO] performing 2 scenarios * 2 policies * 1 model(s) = 4 experiments\n",
      "[MainProcess/INFO] performing experiments sequentially\n",
      "[MainProcess/INFO] 1 cases completed\n",
      "[MainProcess/INFO] 2 cases completed\n",
      "[MainProcess/INFO] 3 cases completed\n",
      "[MainProcess/INFO] 4 cases completed\n",
      "[MainProcess/INFO] experiments finished\n"
     ]
    }
   ],
   "source": [
    "from ema_workbench import (MultiprocessingEvaluator, ema_logging,\n",
    "                           perform_experiments, SequentialEvaluator)\n",
    "ema_logging.log_to_stderr(ema_logging.INFO)\n",
    " \n",
    "with SequentialEvaluator(model) as evaluator:\n",
    "    experiments, outcomes = evaluator.perform_experiments(scenarios=2, policies=2)"
   ]
  },
  {
   "cell_type": "code",
   "execution_count": 17,
   "metadata": {},
   "outputs": [
    {
     "name": "stdout",
     "output_type": "stream",
     "text": [
      "<class 'ema_workbench.em_framework.outcomes.ScalarOutcome'>\n",
      "<class 'ema_workbench.em_framework.outcomes.ScalarOutcome'>\n",
      "<class 'ema_workbench.em_framework.outcomes.ScalarOutcome'>\n"
     ]
    }
   ],
   "source": [
    "for i in model.outcomes:\n",
    "    print(type(i))"
   ]
  },
  {
   "cell_type": "code",
   "execution_count": 18,
   "metadata": {},
   "outputs": [
    {
     "data": {
      "text/plain": [
       "array(['A.1', 'A.2', 'A.3', 'A.4', 'A.5'], dtype=object)"
      ]
     },
     "execution_count": 18,
     "metadata": {},
     "output_type": "execute_result"
    }
   ],
   "source": [
    "DikeNetwork().dikelist"
   ]
  },
  {
   "cell_type": "code",
   "execution_count": 19,
   "metadata": {},
   "outputs": [
    {
     "name": "stderr",
     "output_type": "stream",
     "text": [
      "[MainProcess/INFO] no time dimension found in results\n"
     ]
    },
    {
     "data": {
      "image/png": "[encoded data removed]",
      "text/plain": [
       "<Figure size 432x288 with 9 Axes>"
      ]
     },
     "metadata": {
      "needs_background": "light"
     },
     "output_type": "display_data"
    }
   ],
   "source": [
    "from ema_workbench.analysis import pairs_plotting\n",
    "fig, axes = pairs_plotting.pairs_scatter(experiments=experiments, outcomes=outcomes, group_by='policy',\n",
    "                                         legend=False)\n",
    "plt.show()"
   ]
  },
  {
   "cell_type": "markdown",
   "metadata": {},
   "source": [
    "# Global SA using SOBOL"
   ]
  },
  {
   "cell_type": "code",
   "execution_count": 20,
   "metadata": {},
   "outputs": [],
   "source": [
    "%matplotlib inline\n",
    "import numpy as np\n",
    "import pandas as pd\n",
    "\n",
    "import matplotlib.pyplot as plt\n",
    "import seaborn as sns\n",
    "sns.set_style('white')\n",
    "\n",
    "from ema_workbench import (Model, RealParameter, TimeSeriesOutcome,\n",
    "                           perform_experiments, ema_logging,Policy, MultiprocessingEvaluator)\n",
    "\n",
    "from ema_workbench.em_framework.evaluators import LHS, SOBOL, MORRIS\n",
    "\n",
    "from ema_workbench.analysis import feature_scoring\n",
    "from ema_workbench.analysis.scenario_discovery_util import RuleInductionType\n",
    "from ema_workbench.em_framework.salib_samplers import get_SALib_problem\n",
    "\n",
    "from SALib.analyze import sobol\n",
    "import statsmodels.api as sm\n",
    "from ema_workbench.analysis import feature_scoring"
   ]
  },
  {
   "cell_type": "code",
   "execution_count": 42,
   "metadata": {},
   "outputs": [],
   "source": [
    "# Reproducing the uncertainties defined in the dike model\n",
    "# It does not matter which problem formulation id is used here, since the uncertainties are the same in every PF\n",
    "\n",
    "uncertainties = []\n",
    "for unc in model.uncertainties:\n",
    "    uncertainties.append(unc)\n",
    "\n",
    "# Transferring the uncertainties to the desired SALib problem format\n",
    "problem = get_SALib_problem(uncertainties)"
   ]
  },
  {
   "cell_type": "code",
   "execution_count": 70,
   "metadata": {},
   "outputs": [
    {
     "name": "stdout",
     "output_type": "stream",
     "text": [
      "{'num_vars': 19, 'names': ['A.0_ID flood wave shape', 'A.1_Bmax', 'A.1_Brate', 'A.1_pfail', 'A.2_Bmax', 'A.2_Brate', 'A.2_pfail', 'A.3_Bmax', 'A.3_Brate', 'A.3_pfail', 'A.4_Bmax', 'A.4_Brate', 'A.4_pfail', 'A.5_Bmax', 'A.5_Brate', 'A.5_pfail', 'discount rate 0', 'discount rate 1', 'discount rate 2'], 'bounds': [(0, 132), (30, 350), (0, 2), (0, 1), (30, 350), (0, 2), (0, 1), (30, 350), (0, 2), (0, 1), (30, 350), (0, 2), (0, 1), (30, 350), (0, 2), (0, 1), (0, 3), (0, 3), (0, 3)]}\n"
     ]
    }
   ],
   "source": [
    "print(problem)"
   ]
  },
  {
   "cell_type": "code",
   "execution_count": 100,
   "metadata": {},
   "outputs": [
    {
     "name": "stderr",
     "output_type": "stream",
     "text": [
      "[MainProcess/INFO] pool started\n",
      "[MainProcess/INFO] performing 400 scenarios * 1 policies * 1 model(s) = 400 experiments\n",
      "[MainProcess/INFO] 40 cases completed\n",
      "[MainProcess/INFO] 80 cases completed\n",
      "[MainProcess/INFO] 120 cases completed\n",
      "[MainProcess/INFO] 160 cases completed\n",
      "[MainProcess/INFO] 200 cases completed\n",
      "[MainProcess/INFO] 240 cases completed\n",
      "[MainProcess/INFO] 280 cases completed\n",
      "[MainProcess/INFO] 320 cases completed\n",
      "[MainProcess/INFO] 360 cases completed\n",
      "[MainProcess/INFO] 400 cases completed\n",
      "[MainProcess/INFO] experiments finished\n",
      "[MainProcess/INFO] terminating pool\n"
     ]
    }
   ],
   "source": [
    "n_exp = 10\n",
    "\n",
    "with MultiprocessingEvaluator(model) as evaluator:\n",
    "    experiments_sobol, outcomes_sobol = evaluator.perform_experiments(scenarios=n_exp,\n",
    "                                                        uncertainty_sampling=SOBOL)"
   ]
  },
  {
   "cell_type": "code",
   "execution_count": 101,
   "metadata": {},
   "outputs": [],
   "source": [
    "EAD_final_sobol = outcomes_sobol['Expected Annual Damage']\n",
    "EAD_mean_sobol = np.mean(outcomes_sobol['Expected Annual Damage'])\n",
    "EAD_std_sobol = np.std(outcomes_sobol['Expected Annual Damage'])"
   ]
  },
  {
   "cell_type": "code",
   "execution_count": 102,
   "metadata": {},
   "outputs": [],
   "source": [
    "Si = sobol.analyze(problem, EAD_final_sobol, calc_second_order=True, print_to_console=False)"
   ]
  },
  {
   "cell_type": "code",
   "execution_count": 103,
   "metadata": {},
   "outputs": [
    {
     "data": {
      "image/png": "[encoded data removed]",
      "text/plain": [
       "<Figure size 1152x864 with 1 Axes>"
      ]
     },
     "metadata": {},
     "output_type": "display_data"
    }
   ],
   "source": [
    "Si_filter = {k:Si[k] for k in ['ST','ST_conf','S1','S1_conf']}\n",
    "Si_df = pd.DataFrame(Si_filter, index=problem['names'])\n",
    "\n",
    "sns.set_style('white')\n",
    "fig, ax = plt.subplots(1)\n",
    "\n",
    "indices = Si_df[['S1','ST']]\n",
    "err = Si_df[['S1_conf','ST_conf']]\n",
    "\n",
    "indices.plot.bar(yerr=err.values.T,ax=ax)\n",
    "fig.set_size_inches(16,12)\n",
    "fig.subplots_adjust(bottom=0.3)\n",
    "plt.show()"
   ]
  },
  {
   "cell_type": "code",
   "execution_count": 104,
   "metadata": {},
   "outputs": [],
   "source": [
    "# We can also study the convergence of the Sobol indices as a function of the number of samples,\n",
    "# by computing the indices over a partial sample:\n",
    "\n",
    "Y = EAD_final_sobol\n",
    "\n",
    "s_data = pd.DataFrame(index=problem['names'],\n",
    "                      columns=np.arange(2,n_exp,5)*(2*problem['num_vars']+2))\n",
    "for j in s_data.columns:\n",
    "    scores = sobol.analyze(problem, Y[0:j], calc_second_order=True, print_to_console=False)\n",
    "    s_data.loc[:,j] = scores['ST']"
   ]
  },
  {
   "cell_type": "code",
   "execution_count": 105,
   "metadata": {},
   "outputs": [
    {
     "data": {
      "image/png": "[encoded data removed]",
      "text/plain": [
       "<Figure size 432x288 with 1 Axes>"
      ]
     },
     "metadata": {},
     "output_type": "display_data"
    }
   ],
   "source": [
    "fig, ax = plt.subplots(1)\n",
    "\n",
    "s_data.T.plot(ax=ax)\n",
    "ax.set_xlabel('Samples')\n",
    "ax.set_ylabel('Total index (ST)')\n",
    "plt.show()"
   ]
  },
  {
   "cell_type": "code",
   "execution_count": 107,
   "metadata": {},
   "outputs": [
    {
     "data": {
      "text/plain": [
       "{'Expected Annual Damage': array([2.34149023e+07, 0.00000000e+00, 3.19328884e+08, 3.85760398e+07]),\n",
       " 'Total Investment Costs': array([1.46635761e+09, 1.46635570e+09, 1.74401773e+09, 1.74401773e+09]),\n",
       " 'Expected Number of Deaths': array([0.00383069, 0.        , 0.81328588, 0.06742661])}"
      ]
     },
     "execution_count": 107,
     "metadata": {},
     "output_type": "execute_result"
    }
   ],
   "source": [
    "outcomes"
   ]
  },
  {
   "cell_type": "code",
   "execution_count": null,
   "metadata": {},
   "outputs": [],
   "source": []
  }
 ],
 "metadata": {
  "kernelspec": {
   "display_name": "Python 3",
   "language": "python",
   "name": "python3"
  },
  "language_info": {
   "codemirror_mode": {
    "name": "ipython",
    "version": 3
   },
   "file_extension": ".py",
   "mimetype": "text/x-python",
   "name": "python",
   "nbconvert_exporter": "python",
   "pygments_lexer": "ipython3",
   "version": "3.7.3"
  }
 },
 "nbformat": 4,
 "nbformat_minor": 2
}
