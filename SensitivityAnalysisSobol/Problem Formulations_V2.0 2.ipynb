{
 "cells": [
  {
   "cell_type": "code",
   "execution_count": 1,
   "metadata": {},
   "outputs": [],
   "source": [
    "import numpy as np\n",
    "import scipy as sp\n",
    "import pandas as pd\n",
    "import matplotlib.pyplot as plt\n",
    "import seaborn as sns\n",
    "\n",
    "from ema_workbench import (Model, CategoricalParameter,\n",
    "                           ScalarOutcome, TimeSeriesOutcome, IntegerParameter, RealParameter)\n",
    "\n",
    "from dike_model_function_V2_0 import (DikeNetwork,DikeNetworkTS)  # @UnresolvedImport\n",
    "from problem_formulation_V2_0 import get_model_for_actor_problem_formulation"
   ]
  },
  {
   "cell_type": "code",
   "execution_count": 2,
   "metadata": {
    "scrolled": false
   },
   "outputs": [],
   "source": [
    "# Problem formulations:\n",
    "#    get_model_for_actor_problem_formulation(problem_formulation_id, outcome_type='time_series')\n",
    "#    problem_formulation_id options\n",
    "#        1 - RWS (GOOD)\n",
    "#        2 - Environmental interest group\n",
    "#        3 - Transport company \n",
    "#        4 - Delta commission\n",
    "#        5 - Gelderland (GOOD)\n",
    "#        6 - Overijssel (GOOD)s\n",
    "#        7 - Dike rings 1 and 2\n",
    "#        8 - Dike ring 3\n",
    "#        9 - Dike ring 4\n",
    "#        10 - Dike ring 5\n",
    "#\n",
    "#    outcome_type options\n",
    "#        'time_series' (default)\n",
    "#        'scalar'\n",
    "\n",
    "\n",
    "model, planning_steps = get_model_for_actor_problem_formulation(1)"
   ]
  },
  {
   "cell_type": "code",
   "execution_count": 7,
   "metadata": {
    "scrolled": true
   },
   "outputs": [
    {
     "name": "stdout",
     "output_type": "stream",
     "text": [
      "0_RfR 0\n",
      "0_RfR 1\n",
      "0_RfR 2\n",
      "1_RfR 0\n",
      "1_RfR 1\n",
      "1_RfR 2\n",
      "2_RfR 0\n",
      "2_RfR 1\n",
      "2_RfR 2\n",
      "3_RfR 0\n",
      "3_RfR 1\n",
      "3_RfR 2\n",
      "4_RfR 0\n",
      "4_RfR 1\n",
      "4_RfR 2\n",
      "EWS_DaysToThreat\n",
      "A.1_DikeIncrease 0\n",
      "A.1_DikeIncrease 1\n",
      "A.1_DikeIncrease 2\n",
      "A.2_DikeIncrease 0\n",
      "A.2_DikeIncrease 1\n",
      "A.2_DikeIncrease 2\n",
      "A.3_DikeIncrease 0\n",
      "A.3_DikeIncrease 1\n",
      "A.3_DikeIncrease 2\n",
      "A.4_DikeIncrease 0\n",
      "A.4_DikeIncrease 1\n",
      "A.4_DikeIncrease 2\n",
      "A.5_DikeIncrease 0\n",
      "A.5_DikeIncrease 1\n",
      "A.5_DikeIncrease 2\n"
     ]
    }
   ],
   "source": [
    "for lever in model.levers:\n",
    "    print(lever.name)"
   ]
  },
  {
   "cell_type": "code",
   "execution_count": 8,
   "metadata": {
    "scrolled": true
   },
   "outputs": [
    {
     "name": "stdout",
     "output_type": "stream",
     "text": [
      "CategoricalParameter('discount rate 0', [0, 1, 2, 3])\n",
      "CategoricalParameter('discount rate 1', [0, 1, 2, 3])\n",
      "CategoricalParameter('discount rate 2', [0, 1, 2, 3])\n",
      "IntegerParameter('A.0_ID flood wave shape', 0, 132)\n",
      "RealParameter('A.1_Bmax', 30, 350)\n",
      "RealParameter('A.1_pfail', 0, 1)\n",
      "CategoricalParameter('A.1_Brate', [0, 1, 2])\n",
      "RealParameter('A.2_Bmax', 30, 350)\n",
      "RealParameter('A.2_pfail', 0, 1)\n",
      "CategoricalParameter('A.2_Brate', [0, 1, 2])\n",
      "RealParameter('A.3_Bmax', 30, 350)\n",
      "RealParameter('A.3_pfail', 0, 1)\n",
      "CategoricalParameter('A.3_Brate', [0, 1, 2])\n",
      "RealParameter('A.4_Bmax', 30, 350)\n",
      "RealParameter('A.4_pfail', 0, 1)\n",
      "CategoricalParameter('A.4_Brate', [0, 1, 2])\n",
      "RealParameter('A.5_Bmax', 30, 350)\n",
      "RealParameter('A.5_pfail', 0, 1)\n",
      "CategoricalParameter('A.5_Brate', [0, 1, 2])\n"
     ]
    }
   ],
   "source": [
    "for unc in model.uncertainties:\n",
    "    print(repr(unc))"
   ]
  },
  {
   "cell_type": "code",
   "execution_count": 9,
   "metadata": {},
   "outputs": [
    {
     "name": "stdout",
     "output_type": "stream",
     "text": [
      "TimeSeriesOutcome('A.1_Expected Annual Damage')\n",
      "TimeSeriesOutcome('A.1_Expected Number of Deaths')\n",
      "TimeSeriesOutcome('A.2_Expected Annual Damage')\n",
      "TimeSeriesOutcome('A.2_Expected Number of Deaths')\n",
      "TimeSeriesOutcome('A.3_Expected Annual Damage')\n",
      "TimeSeriesOutcome('A.3_Expected Number of Deaths')\n",
      "TimeSeriesOutcome('A.4_Expected Annual Damage')\n",
      "TimeSeriesOutcome('A.4_Expected Number of Deaths')\n",
      "TimeSeriesOutcome('A.5_Expected Annual Damage')\n",
      "TimeSeriesOutcome('A.5_Expected Number of Deaths')\n",
      "TimeSeriesOutcome('Total Investment Costs', variable_name=['A.1_Dike Investment Costs', 'A.2_Dike Investment Costs', 'A.3_Dike Investment Costs', 'A.4_Dike Investment Costs', 'A.5_Dike Investment Costs', 'RfR Total Costs', 'Expected Evacuation Costs'], function=<function sum_time_series at 0x10e951c80>)\n"
     ]
    }
   ],
   "source": [
    "for outcome in model.outcomes:\n",
    "    print(repr(outcome))"
   ]
  },
  {
   "cell_type": "code",
   "execution_count": 6,
   "metadata": {},
   "outputs": [
    {
     "name": "stderr",
     "output_type": "stream",
     "text": [
      "[MainProcess/INFO] performing 2 scenarios * 2 policies * 1 model(s) = 4 experiments\n",
      "[MainProcess/INFO] performing experiments sequentially\n",
      "[MainProcess/INFO] 1 cases completed\n",
      "[MainProcess/INFO] 2 cases completed\n",
      "[MainProcess/INFO] 3 cases completed\n",
      "[MainProcess/INFO] 4 cases completed\n",
      "[MainProcess/INFO] experiments finished\n"
     ]
    }
   ],
   "source": [
    "from ema_workbench import (MultiprocessingEvaluator, ema_logging,\n",
    "                           perform_experiments, SequentialEvaluator)\n",
    "ema_logging.log_to_stderr(ema_logging.INFO)\n",
    " \n",
    "with SequentialEvaluator(model) as evaluator:\n",
    "    experiments, outcomes = evaluator.perform_experiments(scenarios=2, policies=2)"
   ]
  },
  {
   "cell_type": "code",
   "execution_count": 3,
   "metadata": {},
   "outputs": [],
   "source": [
    "from ema_workbench.em_framework.evaluators import SOBOL\n",
    "from ema_workbench.em_framework.salib_samplers import get_SALib_problem\n",
    "from ema_workbench import (Model, RealParameter, TimeSeriesOutcome,\n",
    "                           perform_experiments, ema_logging,Policy, MultiprocessingEvaluator)\n",
    "\n",
    "from SALib.analyze import sobol"
   ]
  },
  {
   "cell_type": "code",
   "execution_count": 4,
   "metadata": {},
   "outputs": [],
   "source": [
    "# Reproducing the uncertainties defined in the dike model\n",
    "# It does not matter which problem formulation id is used here, since the uncertainties are the same in every PF\n",
    "\n",
    "uncertainties = []\n",
    "for unc in model.uncertainties:\n",
    "    uncertainties.append(unc)\n",
    "\n",
    "# Transferring the uncertainties to the desired SALib problem format\n",
    "problem = get_SALib_problem(uncertainties)"
   ]
  },
  {
   "cell_type": "code",
   "execution_count": 7,
   "metadata": {},
   "outputs": [
    {
     "name": "stderr",
     "output_type": "stream",
     "text": [
      "[MainProcess/INFO] pool started\n",
      "[MainProcess/INFO] performing 200 scenarios * 1 policies * 1 model(s) = 200 experiments\n",
      "[MainProcess/INFO] 20 cases completed\n",
      "[MainProcess/INFO] 40 cases completed\n",
      "[MainProcess/INFO] 60 cases completed\n",
      "[MainProcess/INFO] 80 cases completed\n",
      "[MainProcess/INFO] 100 cases completed\n",
      "[MainProcess/INFO] 120 cases completed\n",
      "[MainProcess/INFO] 140 cases completed\n",
      "[MainProcess/INFO] 160 cases completed\n",
      "[MainProcess/INFO] 180 cases completed\n",
      "[MainProcess/INFO] 200 cases completed\n",
      "[MainProcess/INFO] experiments finished\n",
      "[MainProcess/INFO] terminating pool\n"
     ]
    }
   ],
   "source": [
    "n_scenario = 5\n",
    "\n",
    "with MultiprocessingEvaluator(model) as evaluator:\n",
    "    experiments_sobol, outcomes_sobol = evaluator.perform_experiments(scenarios=n_scenario,\n",
    "                                                        uncertainty_sampling=SOBOL)"
   ]
  },
  {
   "cell_type": "code",
   "execution_count": null,
   "metadata": {},
   "outputs": [],
   "source": []
  }
 ],
 "metadata": {
  "kernelspec": {
   "display_name": "Python 3",
   "language": "python",
   "name": "python3"
  },
  "language_info": {
   "codemirror_mode": {
    "name": "ipython",
    "version": 3
   },
   "file_extension": ".py",
   "mimetype": "text/x-python",
   "name": "python",
   "nbconvert_exporter": "python",
   "pygments_lexer": "ipython3",
   "version": "3.7.3"
  }
 },
 "nbformat": 4,
 "nbformat_minor": 2
}
