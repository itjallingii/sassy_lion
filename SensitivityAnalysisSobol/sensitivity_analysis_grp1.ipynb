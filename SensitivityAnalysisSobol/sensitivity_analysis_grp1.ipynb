{
 "cells": [
  {
   "cell_type": "markdown",
   "metadata": {},
   "source": [
    "# Sensitivity Analysis: RfR\n",
    "### The goal is to intervene in the system, starting from the parameters to which the model is most sensitive?\n",
    "Global sensitivity analysis: uncertain inputs are sampled at the same time (e.g. with Monte Carlo/Latin Hypercube), instead of checking each input separately, next we try to understand how uncertainty in model output is a function of uncertainty in model input.\n",
    "#### The following sensitivity analysis aims to:\n",
    "- Find which uncertain inputs are more influential on outputs;\n",
    "- How much of the uncertainty is epistemic; how much is irreducible;\n",
    "- Which uncertain inputs should be a priority for research;\n",
    "- Which inputs be left out/aggregated to simplify the model.\n",
    "\n",
    "#### Methods include:\n",
    "- Sobol\n",
    "- Extra trees"
   ]
  },
  {
   "cell_type": "markdown",
   "metadata": {},
   "source": [
    "## Import packages"
   ]
  },
  {
   "cell_type": "code",
   "execution_count": 1,
   "metadata": {},
   "outputs": [],
   "source": [
    "# Importing the standard Python packages \n",
    "import numpy as np\n",
    "import pandas as pd\n",
    "import matplotlib.pyplot as plt\n",
    "import seaborn as sns\n",
    "\n",
    "# Importing the modules used for EMA Workbench\n",
    "from ema_workbench import (RealParameter, CategoricalParameter, IntegerParameter, ema_logging, load_results, save_results)\n",
    "from ema_workbench.em_framework import (get_SALib_problem)\n",
    "from ema_workbench import load_results\n",
    "ema_logging.log_to_stderr(ema_logging.INFO)\n",
    "\n",
    "# Importing sobol from the SALib library\n",
    "from SALib.analyze import sobol\n",
    "\n",
    "# Importing the problem formulation function\n",
    "from problem_formulation import get_model_for_problem_formulation\n"
   ]
  },
  {
   "cell_type": "markdown",
   "metadata": {},
   "source": [
    "# Sobol"
   ]
  },
  {
   "cell_type": "code",
   "execution_count": 2,
   "metadata": {},
   "outputs": [],
   "source": [
    "# Reproducing the uncertainties defined in the dike model\n",
    "# It does not matter which problem formulation id is used here, since the uncertainties are the same in every PF\n",
    "\n",
    "dike_model, planning_steps = get_model_for_problem_formulation(4)\n",
    "\n",
    "uncertainties = []\n",
    "\n",
    "for unc in dike_model.uncertainties:\n",
    "    uncertainties.append(unc)\n",
    "\n",
    "# Transferring the uncertainties to the desired SALib problem format\n",
    "problem = get_SALib_problem(uncertainties)"
   ]
  },
  {
   "cell_type": "code",
   "execution_count": 6,
   "metadata": {},
   "outputs": [
    {
     "data": {
      "text/plain": [
       "[CategoricalParameter('discount rate 0', [0, 1, 2, 3]),\n",
       " CategoricalParameter('discount rate 1', [0, 1, 2, 3]),\n",
       " CategoricalParameter('discount rate 2', [0, 1, 2, 3]),\n",
       " IntegerParameter('A.0_ID flood wave shape', 0, 132),\n",
       " RealParameter('A.1_Bmax', 30, 350),\n",
       " RealParameter('A.1_pfail', 0, 1),\n",
       " CategoricalParameter('A.1_Brate', [0, 1, 2]),\n",
       " RealParameter('A.2_Bmax', 30, 350),\n",
       " RealParameter('A.2_pfail', 0, 1),\n",
       " CategoricalParameter('A.2_Brate', [0, 1, 2]),\n",
       " RealParameter('A.3_Bmax', 30, 350),\n",
       " RealParameter('A.3_pfail', 0, 1),\n",
       " CategoricalParameter('A.3_Brate', [0, 1, 2]),\n",
       " RealParameter('A.4_Bmax', 30, 350),\n",
       " RealParameter('A.4_pfail', 0, 1),\n",
       " CategoricalParameter('A.4_Brate', [0, 1, 2]),\n",
       " RealParameter('A.5_Bmax', 30, 350),\n",
       " RealParameter('A.5_pfail', 0, 1),\n",
       " CategoricalParameter('A.5_Brate', [0, 1, 2])]"
      ]
     },
     "execution_count": 6,
     "metadata": {},
     "output_type": "execute_result"
    }
   ],
   "source": [
    "uncertainties"
   ]
  },
  {
   "cell_type": "code",
   "execution_count": 10,
   "metadata": {},
   "outputs": [
    {
     "ename": "TypeError",
     "evalue": "list indices must be integers or slices, not str",
     "output_type": "error",
     "traceback": [
      "\u001b[0;31m---------------------------------------------------------------------------\u001b[0m",
      "\u001b[0;31mTypeError\u001b[0m                                 Traceback (most recent call last)",
      "\u001b[0;32m<ipython-input-10-c6985da5cd65>\u001b[0m in \u001b[0;36m<module>\u001b[0;34m\u001b[0m\n\u001b[1;32m      6\u001b[0m     \u001b[0moutcomes\u001b[0m\u001b[0;34m.\u001b[0m\u001b[0mappend\u001b[0m\u001b[0;34m(\u001b[0m\u001b[0moutc\u001b[0m\u001b[0;34m)\u001b[0m\u001b[0;34m\u001b[0m\u001b[0;34m\u001b[0m\u001b[0m\n\u001b[1;32m      7\u001b[0m \u001b[0;34m\u001b[0m\u001b[0m\n\u001b[0;32m----> 8\u001b[0;31m \u001b[0mY1\u001b[0m \u001b[0;34m=\u001b[0m \u001b[0moutcomes\u001b[0m\u001b[0;34m[\u001b[0m\u001b[0;34m'Expected Annual Damage 0'\u001b[0m\u001b[0;34m]\u001b[0m\u001b[0;34m\u001b[0m\u001b[0;34m\u001b[0m\u001b[0m\n\u001b[0m\u001b[1;32m      9\u001b[0m \u001b[0mY2\u001b[0m \u001b[0;34m=\u001b[0m \u001b[0moutcomes\u001b[0m\u001b[0;34m[\u001b[0m\u001b[0;34m'Dike Investment Costs 0'\u001b[0m\u001b[0;34m]\u001b[0m\u001b[0;34m\u001b[0m\u001b[0;34m\u001b[0m\u001b[0m\n\u001b[1;32m     10\u001b[0m \u001b[0mY3\u001b[0m \u001b[0;34m=\u001b[0m \u001b[0moutcomes\u001b[0m\u001b[0;34m[\u001b[0m\u001b[0;34m'Expected Number of Deaths 0'\u001b[0m\u001b[0;34m]\u001b[0m\u001b[0;34m\u001b[0m\u001b[0;34m\u001b[0m\u001b[0m\n",
      "\u001b[0;31mTypeError\u001b[0m: list indices must be integers or slices, not str"
     ]
    }
   ],
   "source": [
    "# Preparing the outcomes of interest in a manner that they can be read in by Sobol\n",
    "\n",
    "outcomes = []\n",
    "\n",
    "for outc in dike_model.outcomes:\n",
    "    outcomes.append(outc)\n",
    "\n",
    "Y1 = outcomes['Expected Annual Damage 0']\n",
    "Y2 = outcomes['Dike Investment Costs 0']\n",
    "Y3 = outcomes['Expected Number of Deaths 0']"
   ]
  },
  {
   "cell_type": "code",
   "execution_count": 13,
   "metadata": {},
   "outputs": [
    {
     "data": {
      "text/plain": [
       "[ScalarOutcome('Expected Annual Damage 0', variable_name=['A.1_Expected Annual Damage 0', 'A.2_Expected Annual Damage 0', 'A.3_Expected Annual Damage 0', 'A.4_Expected Annual Damage 0', 'A.5_Expected Annual Damage 0'], function=<function sum_over at 0x1a20a07378>),\n",
       " ScalarOutcome('Dike Investment Costs 0', variable_name=['A.1_Dike Investment Costs 0', 'A.2_Dike Investment Costs 0', 'A.3_Dike Investment Costs 0', 'A.4_Dike Investment Costs 0', 'A.5_Dike Investment Costs 0'], function=<function sum_over at 0x1a20a07378>),\n",
       " ScalarOutcome('Expected Number of Deaths 0', variable_name=['A.1_Expected Number of Deaths 0', 'A.2_Expected Number of Deaths 0', 'A.3_Expected Number of Deaths 0', 'A.4_Expected Number of Deaths 0', 'A.5_Expected Number of Deaths 0'], function=<function sum_over at 0x1a20a07378>),\n",
       " ScalarOutcome('RfR Total Costs 0'),\n",
       " ScalarOutcome('Expected Evacuation Costs 0'),\n",
       " ScalarOutcome('Expected Annual Damage 1', variable_name=['A.1_Expected Annual Damage 1', 'A.2_Expected Annual Damage 1', 'A.3_Expected Annual Damage 1', 'A.4_Expected Annual Damage 1', 'A.5_Expected Annual Damage 1'], function=<function sum_over at 0x1a20a07378>),\n",
       " ScalarOutcome('Dike Investment Costs 1', variable_name=['A.1_Dike Investment Costs 1', 'A.2_Dike Investment Costs 1', 'A.3_Dike Investment Costs 1', 'A.4_Dike Investment Costs 1', 'A.5_Dike Investment Costs 1'], function=<function sum_over at 0x1a20a07378>),\n",
       " ScalarOutcome('Expected Number of Deaths 1', variable_name=['A.1_Expected Number of Deaths 1', 'A.2_Expected Number of Deaths 1', 'A.3_Expected Number of Deaths 1', 'A.4_Expected Number of Deaths 1', 'A.5_Expected Number of Deaths 1'], function=<function sum_over at 0x1a20a07378>),\n",
       " ScalarOutcome('RfR Total Costs 1'),\n",
       " ScalarOutcome('Expected Evacuation Costs 1'),\n",
       " ScalarOutcome('Expected Annual Damage 2', variable_name=['A.1_Expected Annual Damage 2', 'A.2_Expected Annual Damage 2', 'A.3_Expected Annual Damage 2', 'A.4_Expected Annual Damage 2', 'A.5_Expected Annual Damage 2'], function=<function sum_over at 0x1a20a07378>),\n",
       " ScalarOutcome('Dike Investment Costs 2', variable_name=['A.1_Dike Investment Costs 2', 'A.2_Dike Investment Costs 2', 'A.3_Dike Investment Costs 2', 'A.4_Dike Investment Costs 2', 'A.5_Dike Investment Costs 2'], function=<function sum_over at 0x1a20a07378>),\n",
       " ScalarOutcome('Expected Number of Deaths 2', variable_name=['A.1_Expected Number of Deaths 2', 'A.2_Expected Number of Deaths 2', 'A.3_Expected Number of Deaths 2', 'A.4_Expected Number of Deaths 2', 'A.5_Expected Number of Deaths 2'], function=<function sum_over at 0x1a20a07378>),\n",
       " ScalarOutcome('RfR Total Costs 2'),\n",
       " ScalarOutcome('Expected Evacuation Costs 2')]"
      ]
     },
     "execution_count": 13,
     "metadata": {},
     "output_type": "execute_result"
    }
   ],
   "source": [
    "outcomes"
   ]
  },
  {
   "cell_type": "code",
   "execution_count": 28,
   "metadata": {},
   "outputs": [
    {
     "ename": "AttributeError",
     "evalue": "'ScalarOutcome' object has no attribute 'size'",
     "output_type": "error",
     "traceback": [
      "\u001b[0;31m---------------------------------------------------------------------------\u001b[0m",
      "\u001b[0;31mAttributeError\u001b[0m                            Traceback (most recent call last)",
      "\u001b[0;32m<ipython-input-28-e0ff2cf09b96>\u001b[0m in \u001b[0;36m<module>\u001b[0;34m\u001b[0m\n\u001b[1;32m      1\u001b[0m \u001b[0;31m# Executing Sobol sensitivity analysis for each uncertainty on the Expected Annual Damage\u001b[0m\u001b[0;34m\u001b[0m\u001b[0;34m\u001b[0m\u001b[0;34m\u001b[0m\u001b[0m\n\u001b[0;32m----> 2\u001b[0;31m \u001b[0mscores_deaths\u001b[0m \u001b[0;34m=\u001b[0m \u001b[0msobol\u001b[0m\u001b[0;34m.\u001b[0m\u001b[0manalyze\u001b[0m\u001b[0;34m(\u001b[0m\u001b[0mproblem\u001b[0m\u001b[0;34m,\u001b[0m \u001b[0mY1\u001b[0m\u001b[0;34m,\u001b[0m \u001b[0mcalc_second_order\u001b[0m\u001b[0;34m=\u001b[0m\u001b[0;32mFalse\u001b[0m\u001b[0;34m,\u001b[0m \u001b[0mprint_to_console\u001b[0m\u001b[0;34m=\u001b[0m\u001b[0;32mTrue\u001b[0m\u001b[0;34m)\u001b[0m\u001b[0;34m\u001b[0m\u001b[0;34m\u001b[0m\u001b[0m\n\u001b[0m\u001b[1;32m      3\u001b[0m \u001b[0;34m\u001b[0m\u001b[0m\n\u001b[1;32m      4\u001b[0m \u001b[0;31m#Executing Sobol sensitivity analysis for each uncertainty on the Dike Investment Costs\u001b[0m\u001b[0;34m\u001b[0m\u001b[0;34m\u001b[0m\u001b[0;34m\u001b[0m\u001b[0m\n\u001b[1;32m      5\u001b[0m \u001b[0mscores_damage\u001b[0m \u001b[0;34m=\u001b[0m \u001b[0msobol\u001b[0m\u001b[0;34m.\u001b[0m\u001b[0manalyze\u001b[0m\u001b[0;34m(\u001b[0m\u001b[0mproblem\u001b[0m\u001b[0;34m,\u001b[0m \u001b[0mY2\u001b[0m\u001b[0;34m,\u001b[0m \u001b[0mcalc_second_order\u001b[0m\u001b[0;34m=\u001b[0m\u001b[0;32mTrue\u001b[0m\u001b[0;34m,\u001b[0m \u001b[0mprint_to_console\u001b[0m\u001b[0;34m=\u001b[0m\u001b[0;32mTrue\u001b[0m\u001b[0;34m)\u001b[0m\u001b[0;34m\u001b[0m\u001b[0;34m\u001b[0m\u001b[0m\n",
      "\u001b[0;32m~/anaconda3/lib/python3.7/site-packages/SALib/analyze/sobol.py\u001b[0m in \u001b[0;36manalyze\u001b[0;34m(problem, Y, calc_second_order, num_resamples, conf_level, print_to_console, parallel, n_processors, seed)\u001b[0m\n\u001b[1;32m     80\u001b[0m     \u001b[0;32mif\u001b[0m \u001b[0mcalc_second_order\u001b[0m \u001b[0;32mand\u001b[0m \u001b[0mY\u001b[0m\u001b[0;34m.\u001b[0m\u001b[0msize\u001b[0m \u001b[0;34m%\u001b[0m \u001b[0;34m(\u001b[0m\u001b[0;36m2\u001b[0m \u001b[0;34m*\u001b[0m \u001b[0mD\u001b[0m \u001b[0;34m+\u001b[0m \u001b[0;36m2\u001b[0m\u001b[0;34m)\u001b[0m \u001b[0;34m==\u001b[0m \u001b[0;36m0\u001b[0m\u001b[0;34m:\u001b[0m\u001b[0;34m\u001b[0m\u001b[0;34m\u001b[0m\u001b[0m\n\u001b[1;32m     81\u001b[0m         \u001b[0mN\u001b[0m \u001b[0;34m=\u001b[0m \u001b[0mint\u001b[0m\u001b[0;34m(\u001b[0m\u001b[0mY\u001b[0m\u001b[0;34m.\u001b[0m\u001b[0msize\u001b[0m \u001b[0;34m/\u001b[0m \u001b[0;34m(\u001b[0m\u001b[0;36m2\u001b[0m \u001b[0;34m*\u001b[0m \u001b[0mD\u001b[0m \u001b[0;34m+\u001b[0m \u001b[0;36m2\u001b[0m\u001b[0;34m)\u001b[0m\u001b[0;34m)\u001b[0m\u001b[0;34m\u001b[0m\u001b[0;34m\u001b[0m\u001b[0m\n\u001b[0;32m---> 82\u001b[0;31m     \u001b[0;32melif\u001b[0m \u001b[0;32mnot\u001b[0m \u001b[0mcalc_second_order\u001b[0m \u001b[0;32mand\u001b[0m \u001b[0mY\u001b[0m\u001b[0;34m.\u001b[0m\u001b[0msize\u001b[0m \u001b[0;34m%\u001b[0m \u001b[0;34m(\u001b[0m\u001b[0mD\u001b[0m \u001b[0;34m+\u001b[0m \u001b[0;36m2\u001b[0m\u001b[0;34m)\u001b[0m \u001b[0;34m==\u001b[0m \u001b[0;36m0\u001b[0m\u001b[0;34m:\u001b[0m\u001b[0;34m\u001b[0m\u001b[0;34m\u001b[0m\u001b[0m\n\u001b[0m\u001b[1;32m     83\u001b[0m         \u001b[0mN\u001b[0m \u001b[0;34m=\u001b[0m \u001b[0mint\u001b[0m\u001b[0;34m(\u001b[0m\u001b[0mY\u001b[0m\u001b[0;34m.\u001b[0m\u001b[0msize\u001b[0m \u001b[0;34m/\u001b[0m \u001b[0;34m(\u001b[0m\u001b[0mD\u001b[0m \u001b[0;34m+\u001b[0m \u001b[0;36m2\u001b[0m\u001b[0;34m)\u001b[0m\u001b[0;34m)\u001b[0m\u001b[0;34m\u001b[0m\u001b[0;34m\u001b[0m\u001b[0m\n\u001b[1;32m     84\u001b[0m     \u001b[0;32melse\u001b[0m\u001b[0;34m:\u001b[0m\u001b[0;34m\u001b[0m\u001b[0;34m\u001b[0m\u001b[0m\n",
      "\u001b[0;31mAttributeError\u001b[0m: 'ScalarOutcome' object has no attribute 'size'"
     ]
    }
   ],
   "source": [
    "# Executing Sobol sensitivity analysis for each uncertainty on the Expected Annual Damage\n",
    "scores_deaths = sobol.analyze(problem, Y1, calc_second_order=False, print_to_console=True)\n",
    "\n",
    "#Executing Sobol sensitivity analysis for each uncertainty on the Dike Investment Costs\n",
    "scores_damage = sobol.analyze(problem, Y2, calc_second_order=True, print_to_console=True)\n",
    "\n",
    "#Executing Sobol sensitivity analysis for each uncertainty on the Expected Number of Death\n",
    "scores_damage = sobol.analyze(problem, Y3, calc_second_order=True, print_to_console=True)"
   ]
  },
  {
   "cell_type": "code",
   "execution_count": 27,
   "metadata": {},
   "outputs": [
    {
     "data": {
      "text/plain": [
       "ScalarOutcome('Expected Annual Damage 0', variable_name=['A.1_Expected Annual Damage 0', 'A.2_Expected Annual Damage 0', 'A.3_Expected Annual Damage 0', 'A.4_Expected Annual Damage 0', 'A.5_Expected Annual Damage 0'], function=<function sum_over at 0x114d23b70>)"
      ]
     },
     "execution_count": 27,
     "metadata": {},
     "output_type": "execute_result"
    }
   ],
   "source": [
    "Y1"
   ]
  },
  {
   "cell_type": "code",
   "execution_count": null,
   "metadata": {},
   "outputs": [],
   "source": []
  }
 ],
 "metadata": {
  "kernelspec": {
   "display_name": "Python 3",
   "language": "python",
   "name": "python3"
  },
  "language_info": {
   "codemirror_mode": {
    "name": "ipython",
    "version": 3
   },
   "file_extension": ".py",
   "mimetype": "text/x-python",
   "name": "python",
   "nbconvert_exporter": "python",
   "pygments_lexer": "ipython3",
   "version": "3.7.3"
  }
 },
 "nbformat": 4,
 "nbformat_minor": 2
}
